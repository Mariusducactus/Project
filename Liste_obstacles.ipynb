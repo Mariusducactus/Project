{
 "cells": [
  {
   "cell_type": "code",
   "execution_count": 41,
   "metadata": {},
   "outputs": [],
   "source": [
    "using Makie\n",
    "using AbstractPlotting\n",
    "using GeometryTypes"
   ]
  },
  {
   "cell_type": "code",
   "execution_count": 38,
   "metadata": {},
   "outputs": [
    {
     "data": {
      "text/plain": [
       "8-element Simplex{8,Array{Float64,1}}:\n",
       " [0.0, 0.0]\n",
       " [1.0, 0.0]\n",
       " [0.0, 0.0]\n",
       " [0.0, 1.0]\n",
       " [0.0, 1.0]\n",
       " [1.0, 1.0]\n",
       " [1.0, 0.0]\n",
       " [1.0, 1.0]"
      ]
     },
     "execution_count": 38,
     "metadata": {},
     "output_type": "execute_result"
    }
   ],
   "source": [
    "a = LineSegment([0.,0.],[1.,0.])\n",
    "b = LineSegment([0.,0.],[0.,1.])\n",
    "c = LineSegment([0.,1.],[1.,1.])\n",
    "d = LineSegment([1.,0.],[1.,1.])\n",
    "\n",
    "\n",
    "obstacles = [a;b;c;d]"
   ]
  },
  {
   "cell_type": "code",
   "execution_count": 21,
   "metadata": {},
   "outputs": [
    {
     "data": {
      "text/plain": [
       "6-element Array{Simplex{2,Array{Float64,1}},1}:\n",
       " [[0.0, 0.0], [1.0, 0.0]]\n",
       " [[0.0, 0.0], [0.0, 1.0]]\n",
       " [[0.0, 1.0], [1.0, 1.0]]\n",
       " [[1.0, 0.0], [1.0, 1.0]]\n",
       " [[0.0, 0.5], [0.6, 0.5]]\n",
       " [[0.4, 0.4], [0.6, 0.4]]"
      ]
     },
     "execution_count": 21,
     "metadata": {},
     "output_type": "execute_result"
    }
   ],
   "source": [
    "a = LineSegment([0.,0.],[1.,0.])\n",
    "b = LineSegment([0.,0.],[0.,1.])\n",
    "c = LineSegment([0.,1.],[1.,1.])\n",
    "d = LineSegment([1.,0.],[1.,1.])\n",
    "\n",
    "e = LineSegment([0.,0.5],[0.6,0.5])\n",
    "f = LineSegment([0.4,0.4],[0.6,0.4])\n",
    "\n",
    "\n",
    "obstacles = [a,b,c,d,e,f]"
   ]
  },
  {
   "cell_type": "code",
   "execution_count": 45,
   "metadata": {},
   "outputs": [
    {
     "ename": "UndefVarError",
     "evalue": "UndefVarError: isnothing not defined",
     "output_type": "error",
     "traceback": [
      "UndefVarError: isnothing not defined",
      "",
      "Stacktrace:",
      " [1] #findfont#23(::Bool, ::Bool, ::String, ::Function, ::String) at /Users/titouan/.julia/packages/FreeTypeAbstraction/wZAiY/src/findfonts.jl:156",
      " [2] #findfont at ./none:0 [inlined]",
      " [3] (::getfield(AbstractPlotting, Symbol(\"##249#250\")){String})() at /Users/titouan/.julia/packages/AbstractPlotting/S71fs/src/conversions.jl:643",
      " [4] get!(::getfield(AbstractPlotting, Symbol(\"##249#250\")){String}, ::Dict{String,FreeTypeAbstraction.FTFont}, ::String) at ./dict.jl:453",
      " [5] convert_attribute(::String, ::AbstractPlotting.Key{:font}) at /Users/titouan/.julia/packages/AbstractPlotting/S71fs/src/conversions.jl:640",
      " [6] to_font(::String) at /Users/titouan/.julia/packages/AbstractPlotting/S71fs/src/conversions.jl:22",
      " [7] (::getfield(AbstractPlotting, Symbol(\"##249#250\")){String})() at /Users/titouan/.julia/packages/AbstractPlotting/S71fs/src/conversions.jl:641",
      " [8] get!(::getfield(AbstractPlotting, Symbol(\"##249#250\")){String}, ::Dict{String,FreeTypeAbstraction.FTFont}, ::String) at ./dict.jl:453",
      " [9] convert_attribute(::String, ::AbstractPlotting.Key{:font}) at /Users/titouan/.julia/packages/AbstractPlotting/S71fs/src/conversions.jl:640",
      " [10] to_font at /Users/titouan/.julia/packages/AbstractPlotting/S71fs/src/conversions.jl:22 [inlined]",
      " [11] TextBuffer(::Axis2D{...}, ::Type{Point{2,T} where T}) at /Users/titouan/.julia/packages/AbstractPlotting/S71fs/src/basic_recipes/buffers.jl:55",
      " [12] plot!(::Scene, ::Type{Axis2D{...}}, ::Attributes, ::Observables.Observable{HyperRectangle{3,Float32}}) at /Users/titouan/.julia/packages/AbstractPlotting/S71fs/src/basic_recipes/axis.jl:557",
      " [13] #axis2d!#622(::Base.Iterators.Pairs{Symbol,NamedTuple{(:ranges, :labels),Tuple{AbstractPlotting.Automatic,AbstractPlotting.Automatic}},Tuple{Symbol},NamedTuple{(:ticks,),Tuple{NamedTuple{(:ranges, :labels),Tuple{AbstractPlotting.Automatic,AbstractPlotting.Automatic}}}}}, ::Function, ::Scene, ::Attributes, ::Observables.Observable{HyperRectangle{3,Float32}}) at /Users/titouan/.julia/packages/AbstractPlotting/S71fs/src/recipes.jl:38",
      " [14] (::getfield(AbstractPlotting, Symbol(\"#kw##axis2d!\")))(::NamedTuple{(:ticks,),Tuple{NamedTuple{(:ranges, :labels),Tuple{AbstractPlotting.Automatic,AbstractPlotting.Automatic}}}}, ::typeof(axis2d!), ::Scene, ::Attributes, ::Observables.Observable{HyperRectangle{3,Float32}}) at ./none:0",
      " [15] add_axis!(::Scene, ::Attributes) at /Users/titouan/.julia/packages/AbstractPlotting/S71fs/src/interfaces.jl:761",
      " [16] plot!(::Scene, ::Type{LineSegments{...}}, ::Attributes, ::Tuple{Observables.Observable{Array{Pair{Point{2,Float32},Point{2,Float32}},1}}}, ::Observables.Observable{Tuple{Base.ReinterpretArray{Point{2,Float32},1,Pair{Point{2,Float32},Point{2,Float32}},Array{Pair{Point{2,Float32},Point{2,Float32}},1}}}}) at /Users/titouan/.julia/packages/AbstractPlotting/S71fs/src/interfaces.jl:663",
      " [17] #plot!#210(::Base.Iterators.Pairs{Union{},Union{},Tuple{},NamedTuple{(),Tuple{}}}, ::Function, ::Scene, ::Type{LineSegments{...}}, ::Attributes, ::Array{Pair{Point{2,Float32},Point{2,Float32}},1}) at /Users/titouan/.julia/packages/AbstractPlotting/S71fs/src/interfaces.jl:576",
      " [18] plot! at /Users/titouan/.julia/packages/AbstractPlotting/S71fs/src/interfaces.jl:545 [inlined]",
      " [19] #linesegments#135(::Base.Iterators.Pairs{Symbol,Any,Tuple{Symbol,Symbol},NamedTuple{(:color, :linewidth),Tuple{Symbol,Int64}}}, ::Function, ::Array{Pair{Point{2,Float32},Point{2,Float32}},1}) at /Users/titouan/.julia/packages/AbstractPlotting/S71fs/src/recipes.jl:15",
      " [20] (::getfield(AbstractPlotting, Symbol(\"#kw##linesegments\")))(::NamedTuple{(:color, :linewidth),Tuple{Symbol,Int64}}, ::typeof(linesegments), ::Array{Pair{Point{2,Float32},Point{2,Float32}},1}) at ./none:0",
      " [21] top-level scope at In[45]:4"
     ]
    }
   ],
   "source": [
    "points = [\n",
    "    Point2f0(0,0) => Point2f0(5,5)\n",
    "]\n",
    "\n",
    "linesegments(points, color =:red,linewidth = 2)\n",
    "#linesegments!(scene, a,  linewidth=5, color=:red,)"
   ]
  },
  {
   "cell_type": "code",
   "execution_count": null,
   "metadata": {
    "collapsed": true
   },
   "outputs": [],
   "source": []
  }
 ],
 "metadata": {
  "kernelspec": {
   "display_name": "Julia 1.0.5",
   "language": "julia",
   "name": "julia-1.0"
  },
  "language_info": {
   "file_extension": ".jl",
   "mimetype": "application/julia",
   "name": "julia",
   "version": "1.0.5"
  }
 },
 "nbformat": 4,
 "nbformat_minor": 2
}
