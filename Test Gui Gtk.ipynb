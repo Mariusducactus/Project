{
 "cells": [
  {
   "cell_type": "code",
   "execution_count": 6,
   "metadata": {},
   "outputs": [],
   "source": [
    "using Gtk, Gtk.ShortNames\n",
    "\n",
    "win = Window(\"Count Click\")\n",
    "v = Box(:v)\n",
    "l = Label(\"You clicked 0 times.\")\n",
    "b = Button(\"Click!\")\n",
    "push!(win, v)\n",
    "push!(v, l)\n",
    "push!(v, b)\n",
    "set_gtk_property!(v, :expand, l, true)\n",
    "\n",
    "showall(win)\n",
    "\n",
    "\n",
    "niter = 0\n",
    "function click()\n",
    "    global niter += 1\n",
    "    set_gtk_property!(l, :label, \"You clicked $niter times.\")\n",
    "    return nothing\n",
    "end\n",
    "\n",
    "signal_connect(x -> click(), b, \"clicked\")\n",
    "\n",
    "\n",
    "if !isinteractive()\n",
    "    c = Condition()\n",
    "    signal_connect(win, :destroy) do widget\n",
    "        notify(c)\n",
    "    end\n",
    "    wait(c)\n",
    "end\n"
   ]
  },
  {
   "cell_type": "code",
   "execution_count": null,
   "metadata": {},
   "outputs": [],
   "source": []
  }
 ],
 "metadata": {
  "kernelspec": {
   "display_name": "Julia 1.4.1",
   "language": "julia",
   "name": "julia-1.4"
  },
  "language_info": {
   "file_extension": ".jl",
   "mimetype": "application/julia",
   "name": "julia",
   "version": "1.4.1"
  }
 },
 "nbformat": 4,
 "nbformat_minor": 4
}
