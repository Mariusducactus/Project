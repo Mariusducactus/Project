{
 "cells": [
  {
   "cell_type": "code",
   "execution_count": 2,
   "metadata": {},
   "outputs": [
    {
     "name": "stderr",
     "output_type": "stream",
     "text": [
      "┌ Info: Precompiling Makie [ee78f7c6-11fb-53f2-987a-cfe4a2b5a57a]\n",
      "└ @ Base loading.jl:1192\n",
      "ERROR: LoadError: could not open file /Users/marius/.julia/packages/GLMakie/aNKYB/deps/deps.jl\n",
      "Stacktrace:\n",
      " [1] include at ./boot.jl:317 [inlined]\n",
      " [2] include_relative(::Module, ::String) at ./loading.jl:1044\n",
      " [3] include at ./sysimg.jl:29 [inlined]\n",
      " [4] include(::String) at /Users/marius/.julia/packages/GLMakie/aNKYB/src/GLMakie.jl:1\n",
      " [5] top-level scope at none:0\n",
      " [6] include at ./boot.jl:317 [inlined]\n",
      " [7] include_relative(::Module, ::String) at ./loading.jl:1044\n",
      " [8] include(::Module, ::String) at ./sysimg.jl:29\n",
      " [9] top-level scope at none:2\n",
      " [10] eval at ./boot.jl:319 [inlined]\n",
      " [11] eval(::Expr) at ./client.jl:393\n",
      " [12] top-level scope at ./none:3\n",
      "in expression starting at /Users/marius/.julia/packages/GLMakie/aNKYB/src/GLMakie.jl:40\n",
      "ERROR: LoadError: Failed to precompile GLMakie [e9467ef8-e4e7-5192-8a1a-b1aee30e663a] to /Users/marius/.julia/compiled/v1.0/GLMakie/nfnZR.ji.\n",
      "Stacktrace:\n",
      " [1] error(::String) at ./error.jl:33\n",
      " [2] compilecache(::Base.PkgId, ::String) at ./loading.jl:1203\n",
      " [3] _require(::Base.PkgId) at ./loading.jl:960\n",
      " [4] require(::Base.PkgId) at ./loading.jl:858\n",
      " [5] require(::Module, ::Symbol) at ./loading.jl:853\n",
      " [6] include at ./boot.jl:317 [inlined]\n",
      " [7] include_relative(::Module, ::String) at ./loading.jl:1044\n",
      " [8] include(::Module, ::String) at ./sysimg.jl:29\n",
      " [9] top-level scope at none:2\n",
      " [10] eval at ./boot.jl:319 [inlined]\n",
      " [11] eval(::Expr) at ./client.jl:393\n",
      " [12] top-level scope at ./none:3\n",
      "in expression starting at /Users/marius/.julia/packages/Makie/eVC5R/src/Makie.jl:3\n"
     ]
    },
    {
     "ename": "ErrorException",
     "evalue": "Failed to precompile Makie [ee78f7c6-11fb-53f2-987a-cfe4a2b5a57a] to /Users/marius/.julia/compiled/v1.0/Makie/iZ1Bl.ji.",
     "output_type": "error",
     "traceback": [
      "Failed to precompile Makie [ee78f7c6-11fb-53f2-987a-cfe4a2b5a57a] to /Users/marius/.julia/compiled/v1.0/Makie/iZ1Bl.ji.",
      "",
      "Stacktrace:",
      " [1] error(::String) at ./error.jl:33",
      " [2] compilecache(::Base.PkgId, ::String) at ./loading.jl:1203",
      " [3] _require(::Base.PkgId) at ./loading.jl:960",
      " [4] require(::Base.PkgId) at ./loading.jl:858",
      " [5] require(::Module, ::Symbol) at ./loading.jl:853",
      " [6] top-level scope at In[2]:1"
     ]
    }
   ],
   "source": [
    "using Makie"
   ]
  },
  {
   "cell_type": "code",
   "execution_count": 1,
   "metadata": {},
   "outputs": [
    {
     "name": "stderr",
     "output_type": "stream",
     "text": [
      "┌ Info: Precompiling Makie [ee78f7c6-11fb-53f2-987a-cfe4a2b5a57a]\n",
      "└ @ Base loading.jl:1192\n",
      "ERROR: LoadError: could not open file /Users/marius/.julia/packages/GLMakie/aNKYB/deps/deps.jl\n",
      "Stacktrace:\n",
      " [1] include at ./boot.jl:317 [inlined]\n",
      " [2] include_relative(::Module, ::String) at ./loading.jl:1044\n",
      " [3] include at ./sysimg.jl:29 [inlined]\n",
      " [4] include(::String) at /Users/marius/.julia/packages/GLMakie/aNKYB/src/GLMakie.jl:1\n",
      " [5] top-level scope at none:0\n",
      " [6] include at ./boot.jl:317 [inlined]\n",
      " [7] include_relative(::Module, ::String) at ./loading.jl:1044\n",
      " [8] include(::Module, ::String) at ./sysimg.jl:29\n",
      " [9] top-level scope at none:2\n",
      " [10] eval at ./boot.jl:319 [inlined]\n",
      " [11] eval(::Expr) at ./client.jl:393\n",
      " [12] top-level scope at ./none:3\n",
      "in expression starting at /Users/marius/.julia/packages/GLMakie/aNKYB/src/GLMakie.jl:40\n",
      "ERROR: LoadError: Failed to precompile GLMakie [e9467ef8-e4e7-5192-8a1a-b1aee30e663a] to /Users/marius/.julia/compiled/v1.0/GLMakie/nfnZR.ji.\n",
      "Stacktrace:\n",
      " [1] error(::String) at ./error.jl:33\n",
      " [2] compilecache(::Base.PkgId, ::String) at ./loading.jl:1203\n",
      " [3] _require(::Base.PkgId) at ./loading.jl:960\n",
      " [4] require(::Base.PkgId) at ./loading.jl:858\n",
      " [5] require(::Module, ::Symbol) at ./loading.jl:853\n",
      " [6] include at ./boot.jl:317 [inlined]\n",
      " [7] include_relative(::Module, ::String) at ./loading.jl:1044\n",
      " [8] include(::Module, ::String) at ./sysimg.jl:29\n",
      " [9] top-level scope at none:2\n",
      " [10] eval at ./boot.jl:319 [inlined]\n",
      " [11] eval(::Expr) at ./client.jl:393\n",
      " [12] top-level scope at ./none:3\n",
      "in expression starting at /Users/marius/.julia/packages/Makie/eVC5R/src/Makie.jl:3\n"
     ]
    },
    {
     "ename": "ErrorException",
     "evalue": "Failed to precompile Makie [ee78f7c6-11fb-53f2-987a-cfe4a2b5a57a] to /Users/marius/.julia/compiled/v1.0/Makie/iZ1Bl.ji.",
     "output_type": "error",
     "traceback": [
      "Failed to precompile Makie [ee78f7c6-11fb-53f2-987a-cfe4a2b5a57a] to /Users/marius/.julia/compiled/v1.0/Makie/iZ1Bl.ji.",
      "",
      "Stacktrace:",
      " [1] error(::String) at ./error.jl:33",
      " [2] compilecache(::Base.PkgId, ::String) at ./loading.jl:1203",
      " [3] _require(::Base.PkgId) at ./loading.jl:960",
      " [4] require(::Base.PkgId) at ./loading.jl:858",
      " [5] require(::Module, ::Symbol) at ./loading.jl:853",
      " [6] top-level scope at In[1]:1"
     ]
    }
   ],
   "source": [
    "\n",
    "\n",
    "res = 500\n",
    "game = Scene(resolution = (res, res))\n",
    "campixel!(game)\n",
    "cell = 10\n",
    "cells = res ÷ 10\n",
    "snakelen = 5\n",
    "middle = cells ÷ 2\n",
    "snakestart = middle - (snakelen ÷ 2)\n",
    "segments = Point2f0.(middle, range(snakestart, step = cell, length = snakelen))\n",
    "snake = scatter!(game, segments, markersize = cell, raw = true, color = :blue)[end]\n",
    "speed = 1/5\n",
    "global last_dir = (0, 1)\n",
    "dir = lift(game.events.keyboardbuttons) do but\n",
    "    global last_dir\n",
    "    ispressed(but, Keyboard.left) && return (last_dir = (-1, 0))\n",
    "    ispressed(but, Keyboard.up) && return (last_dir = (0, 1))\n",
    "    ispressed(but, Keyboard.right) && return (last_dir = (1, 0))\n",
    "    ispressed(but, Keyboard.down) && return (last_dir = (0, -1))\n",
    "    last_dir\n",
    "end\n",
    "display(game)\n",
    "newsnake = copy(segments)\n",
    "while isopen(game)\n",
    "    curr_snake = snake[1][]\n",
    "    circshift!(newsnake, curr_snake, 1)\n",
    "    newsnake[1] = newsnake[2] .+ Point2f0(dir[] .* cell)\n",
    "    snake[1] = newsnake\n",
    "    newsnake = curr_snake\n",
    "    sleep(speed)\n",
    "end"
   ]
  },
  {
   "cell_type": "code",
   "execution_count": null,
   "metadata": {
    "collapsed": true
   },
   "outputs": [],
   "source": []
  }
 ],
 "metadata": {
  "kernelspec": {
   "display_name": "Julia 1.0.5",
   "language": "julia",
   "name": "julia-1.0"
  },
  "language_info": {
   "file_extension": ".jl",
   "mimetype": "application/julia",
   "name": "julia",
   "version": "1.0.5"
  }
 },
 "nbformat": 4,
 "nbformat_minor": 4
}
