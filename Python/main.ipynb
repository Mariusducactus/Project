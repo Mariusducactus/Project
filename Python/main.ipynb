{
 "cells": [
  {
   "cell_type": "code",
   "execution_count": 20,
   "metadata": {},
   "outputs": [],
   "source": [
    "import matplotlib.pyplot as plt\n",
    "import pygame\n",
    "import numpy as np"
   ]
  },
  {
   "cell_type": "code",
   "execution_count": 14,
   "metadata": {
    "collapsed": true
   },
   "outputs": [],
   "source": [
    "##### CONSTANTES\n",
    "\n",
    "f = 0.0\n",
    "rb = 0.0\n",
    "rt = 0.0\n",
    "dt = 0.0\n",
    "m = 0.0\n",
    "g = 9.81"
   ]
  },
  {
   "cell_type": "code",
   "execution_count": 41,
   "metadata": {
    "collapsed": true
   },
   "outputs": [],
   "source": [
    "###### FONCTIONS UTILES\n",
    "\n",
    "def produitvectoriel(vect1,vect2):\n",
    "    return (vect1[0]*vect2[1] - vect1[1]*vect2[0])\n",
    "\n",
    "def produitscalaire(vect1,vect2):\n",
    "    return(vect1[0]*vect2[0] + vect1[1]*vect2[1])\n"
   ]
  },
  {
   "cell_type": "code",
   "execution_count": 45,
   "metadata": {},
   "outputs": [
    {
     "name": "stdout",
     "output_type": "stream",
     "text": [
      "True\n",
      "True\n",
      "True\n",
      "True\n"
     ]
    }
   ],
   "source": [
    "##### CLASSE SEGMENT\n",
    "\n",
    "class Segment:\n",
    "    def __init__(self,array1,array2):\n",
    "        self.depart = array1\n",
    "        self.arrivee = array2\n",
    "        \n",
    "    def cross(self , segment):\n",
    "        ab = [self.arrivee[0] - self.depart[0] , self.arrivee[1] - self.depart[1]]\n",
    "        apbp = [segment.arrivee[0] - segment.depart[0] , segment.arrivee[1] - segment.depart[1]]\n",
    "        abp = [segment.arrivee[0] - self.depart[0], segment.arrivee[1] - self.depart[1]]\n",
    "        aap = [segment.depart[0] - self.depart[0], segment.depart[1] - self.depart[1] ]\n",
    "        apb = [self.arrivee[0] - segment.depart[0] , self.arrivee[1] - segment.depart[1]]\n",
    "        apa = [self.depart[0] - segment.depart[0] , self.depart[1] - segment.depart[1]]\n",
    "        \n",
    "        c1 = produitvectoriel(ab,apbp) != 0\n",
    "        c2 = (produitvectoriel(ab,abp) * produitvectoriel(ab,aap))<=0\n",
    "        c3 = (produitvectoriel(apbp,apb) * produitvectoriel(apbp,apa))<=0\n",
    "        return(c1 and c2 and c3)\n",
    "        \n",
    "        \n",
    "s1 = Segment([0,0],[1,0])\n",
    "s2 = Segment([0.5, -0.5],[0.5,0.5])\n",
    "print(s1.cross(s2))"
   ]
  },
  {
   "cell_type": "code",
   "execution_count": 26,
   "metadata": {},
   "outputs": [],
   "source": [
    "##### CLASSE TROU\n",
    "\n",
    "class Trou:\n",
    "    def __init__(self, array):\n",
    "        self.position = array\n"
   ]
  },
  {
   "cell_type": "code",
   "execution_count": 27,
   "metadata": {},
   "outputs": [],
   "source": [
    "##### CLASSE BALLE\n",
    "\n",
    "class Balle:\n",
    "    def __init__(self, array):\n",
    "        self.position = array\n",
    "    \n"
   ]
  },
  {
   "cell_type": "code",
   "execution_count": 35,
   "metadata": {},
   "outputs": [],
   "source": [
    "##### CLASSE PARTIE\n",
    "\n",
    "obstacles = []\n",
    "# On ajoute les murs\n",
    "obstacles.append(Segment([0,0],[0,1]))\n",
    "obstacles.append(Segment([0,0],[0,1]))\n",
    "obstacles.append(Segment([0,0],[0,1]))\n",
    "obstacles.append(Segment([0,0],[0,1]))\n",
    "# On ajoute les obstacles\n",
    "obstacles.append(Segment([0,0.5],[0.5,0.5]))\n",
    "\n",
    "\n",
    "class Partie:\n",
    "    def __init__(self, arrayballe,arraytrou):\n",
    "        self.balle = Balle(arrayballe)\n",
    "        self.trou = Trou(arraytrou)\n",
    "        self.obstacles = obstacles\n",
    "        self.is_over = false\n",
    "        self.nb_coups = 0\n",
    "        \n",
    "    def is_won(self):\n",
    "        distance = sqrt((self.trou.position[0] - self.balle.position[0])**2 + (self.trou.position[1] - self.balle.position[1])**2 )\n",
    "        return(distance < rt)\n",
    "    \n",
    "    def is_possible_move(self,segment_dep):\n",
    "        var = true\n",
    "        for i in self.obstacles: # Pour tous les obstacles\n",
    "            if i.cross(segment_dep): # Si un segment_dep et i se croisent alors le move n'est pas possible\n",
    "                var = false\n",
    "        return var\n",
    "    \n",
    "    \n",
    "    def deplacement(self , vitesse_initiale): # La vitesse sera de la forme [ ||v|| , theta)]\n",
    "        distance = 1/2*m/f*(vitesse_initiale[0])**2\n",
    "        segment_dep = Segment([self.balle.position[0],self.balle.position[1]],[self.balle.position[0] + cos(vitesse_initale[1]) * distance,self.balle.position[1] + sin(vitesse_initale[1]) * distance] )\n",
    "        if is_possible_move(self,segment_dep):\n",
    "            self.nb_coups += 1\n",
    "            self.balle.position[0] += cos(vitesse_initale[1]) * distance\n",
    "            self.balle.position[1] += sin(vitesse_initale[1]) * distance\n",
    "        else :\n",
    "            self.is_over = true\n",
    "    \n",
    "    \n",
    "         \n",
    "\n",
    "\n"
   ]
  },
  {
   "cell_type": "code",
   "execution_count": null,
   "metadata": {
    "collapsed": true
   },
   "outputs": [],
   "source": []
  },
  {
   "cell_type": "code",
   "execution_count": null,
   "metadata": {
    "collapsed": true
   },
   "outputs": [],
   "source": []
  },
  {
   "cell_type": "code",
   "execution_count": null,
   "metadata": {
    "collapsed": true
   },
   "outputs": [],
   "source": []
  },
  {
   "cell_type": "code",
   "execution_count": null,
   "metadata": {
    "collapsed": true
   },
   "outputs": [],
   "source": []
  },
  {
   "cell_type": "code",
   "execution_count": null,
   "metadata": {
    "collapsed": true
   },
   "outputs": [],
   "source": []
  }
 ],
 "metadata": {
  "kernelspec": {
   "display_name": "Python 3",
   "language": "python",
   "name": "python3"
  },
  "language_info": {
   "codemirror_mode": {
    "name": "ipython",
    "version": 3
   },
   "file_extension": ".py",
   "mimetype": "text/x-python",
   "name": "python",
   "nbconvert_exporter": "python",
   "pygments_lexer": "ipython3",
   "version": "3.6.2"
  }
 },
 "nbformat": 4,
 "nbformat_minor": 2
}
