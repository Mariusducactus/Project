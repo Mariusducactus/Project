{
 "cells": [
  {
   "cell_type": "code",
   "execution_count": 2,
   "metadata": {},
   "outputs": [
    {
     "name": "stdout",
     "output_type": "stream",
     "text": [
      "pygame 1.9.6\n",
      "Hello from the pygame community. https://www.pygame.org/contribute.html\n"
     ]
    }
   ],
   "source": [
    "import matplotlib.pyplot as plt\n",
    "import pygame\n",
    "import numpy as np\n",
    "import random\n",
    "import copy\n",
    "import cma\n",
    "import time"
   ]
  },
  {
   "cell_type": "code",
   "execution_count": 3,
   "metadata": {},
   "outputs": [
    {
     "name": "stdout",
     "output_type": "stream",
     "text": [
      "[0.0, 0.20943951023931953, 0.41887902047863906, 0.6283185307179586, 0.8377580409572781, 1.0471975511965976, 1.2566370614359172, 1.4660765716752369, 1.6755160819145563, 1.8849555921538759, 2.0943951023931953, 2.3038346126325147, 2.5132741228718345, 2.7227136331111543, 2.9321531433504737, 3.1415926535897927, 3.3510321638291125, 3.5604716740684323, 3.7699111843077517, 3.979350694547071, 4.1887902047863905, 4.39822971502571, 4.607669225265029, 4.817108735504349, 5.026548245743669, 5.235987755982989, 5.445427266222309, 5.654866776461628, 5.8643062867009474, 6.073745796940267]\n"
     ]
    }
   ],
   "source": [
    "##### CONSTANTES\n",
    "k = 30\n",
    "N_in = k + 2 + 2\n",
    "N1 =10\n",
    "N2 = 10\n",
    "N_out = k + 1\n",
    "f = 0.3\n",
    "rb = 1\n",
    "rt = 20\n",
    "m = 1\n",
    "g = 9.81\n",
    "best_distance = 300\n",
    "\n",
    "angles = [i * 2*np.pi/k for i in range(k)]\n",
    "print(angles)\n",
    "\n",
    "ratio_distance = 3.5\n",
    "ratio_angle = 100\n",
    "\n",
    "\n",
    "num_elites = 3\n",
    "nbre_mouvements = 50\n",
    "nb_gen = 20\n",
    "nb_pop = 100\n",
    "mutation_rate = 2/(nbre_mouvements*2)\n",
    "v_max = 10"
   ]
  },
  {
   "cell_type": "code",
   "execution_count": 4,
   "metadata": {
    "collapsed": true
   },
   "outputs": [],
   "source": [
    "###### FONCTIONS UTILES\n",
    "\n",
    "def produitvectoriel(vect1,vect2):\n",
    "    return (vect1[0]*vect2[1] - vect1[1]*vect2[0])\n",
    "\n",
    "def produitscalaire(vect1,vect2):\n",
    "    return(vect1[0]*vect2[0] + vect1[1]*vect2[1])\n",
    "\n",
    "def draw_circle(matrice,i,j,r, colour):\n",
    "    for x in range(len(matrice)):\n",
    "        for y in range(len(matrice[x])):\n",
    "            if abs((x-i)**2 + (y-j)**2) <=r**2:\n",
    "                matrice[x,y] = colour\n",
    "\n",
    "def get_line(start, end):\n",
    "    x1, y1 = start\n",
    "    x2, y2 = end\n",
    "    dx = x2 - x1\n",
    "    dy = y2 - y1\n",
    "    is_steep = abs(dy) > abs(dx)\n",
    "    if is_steep:\n",
    "        x1, y1 = y1, x1\n",
    "        x2, y2 = y2, x2\n",
    "    swapped = False\n",
    "    if x1 > x2:\n",
    "        x1, x2 = x2, x1\n",
    "        y1, y2 = y2, y1\n",
    "        swapped = True\n",
    "    dx = x2 - x1\n",
    "    dy = y2 - y1\n",
    "    error = int(dx / 0.5)\n",
    "    ystep = 1 if y1 < y2 else -1\n",
    "    y = y1\n",
    "    points = []\n",
    "    for x in range(x1, x2 + 1):\n",
    "        coord = (y, x) if is_steep else (x, y)\n",
    "        points.append(coord)\n",
    "        error -= abs(dy)\n",
    "        if error < 0:\n",
    "            y += ystep\n",
    "            error += dx\n",
    "    if swapped:\n",
    "        points.reverse()\n",
    "    return points\n",
    "\n",
    "\n",
    "def draw_segment(matrice, start,end):\n",
    "    points = get_line(start, end)\n",
    "    shape = np.shape(matrice)\n",
    "    for i in points:\n",
    "        if i[0]<shape[0] and i[1] < shape[1]:\n",
    "            matrice[i[0],i[1]] = 0.7"
   ]
  },
  {
   "cell_type": "code",
   "execution_count": 5,
   "metadata": {
    "collapsed": true
   },
   "outputs": [],
   "source": [
    "##### CLASSE JOUEUR\n",
    "class Joueur:  \n",
    "    def __init__(self, array_trou,array_balle,obstacles, nbre_mouvements):\n",
    "        self.is_best = False\n",
    "        self.fitness = 0\n",
    "        self.partie = Partie(array_balle,array_trou,obstacles)\n",
    "        self.liste_mouvements = []\n",
    "        self.liste_emplacements = [array_balle]\n",
    "        self.nn = Simple_nn(N_in,N1,N_out)\n",
    "        for i in range(nbre_mouvements):\n",
    "            v = random.random()*v_max\n",
    "            t = random.random()*2*np.pi\n",
    "            self.liste_mouvements.append([v,t])\n",
    "            \n",
    "    def evaluate_fitness(self):\n",
    "        a = best_distance\n",
    "        distance = np.sqrt((self.partie.trou.position[0] - self.partie.balle.position[0])**2 + (self.partie.trou.position[1] - self.partie.balle.position[1])**2 ) \n",
    "        if self.partie.reached_goal:\n",
    "            print(\"victoire\")\n",
    "            self.fitness = 10000000000\n",
    "        elif (not self.partie.is_dead): \n",
    "            self.distance_trou = distance\n",
    "            self.fitness = 1/(distance)**2\n",
    "        else:\n",
    "            self.fitness = -1\n",
    "        return float(self.fitness)\n",
    "            \n",
    "        \n",
    "    def faire_partie(self):\n",
    "        self.partie = Partie(array_balle,array_trou,obstacles)\n",
    "        for i in range(150):\n",
    "            #print(0)\n",
    "            if self.partie.reached_goal:\n",
    "                self.evaluate_fitness()\n",
    "                return\n",
    "            if self.partie.is_dead:\n",
    "                self.evaluate_fitness()\n",
    "                #print(self.liste_emplacements)\n",
    "                #print(self.partie.is_dead)\n",
    "                return\n",
    "            else:\n",
    "                #print(1)\n",
    "                \n",
    "             #   print(2)\n",
    "                a = self.partie.distances()\n",
    "                b = np.array([self.partie.balle.position[0],self.partie.balle.position[1],self.partie.trou.position[0],self.partie.trou.position[1]]) \n",
    "              #  print(3)\n",
    "                c = np.concatenate((a, b)).flatten()\n",
    "               # print(4)\n",
    "                y = self.nn.compute(c)\n",
    "                self.liste_mouvements.append(y)\n",
    "                #print(5)\n",
    "                a = self.partie.deplacement(y)\n",
    "                #print(6)\n",
    "                self.liste_emplacements.append([a, self.partie.is_dead])\n",
    "                #print(7)\n",
    "            #print(self.partie.balle.position)\n",
    "       # print(self.partie.is_dead)\n",
    "        #print(self.liste_emplacements)\n",
    "        #print(8)\n",
    "        return\n",
    "        \n",
    "        \n",
    "    \n",
    "                "
   ]
  },
  {
   "cell_type": "code",
   "execution_count": 6,
   "metadata": {
    "collapsed": true
   },
   "outputs": [],
   "source": [
    "###### CLASSE POPULATION\n",
    "\n",
    "class Population:\n",
    "    def __init__(self, solutions, arraytrou, arrayballe, obstacles):\n",
    "        self.liste_joueur = []\n",
    "        #print(1)\n",
    "        self.solutions = solutions\n",
    "        #print(2)\n",
    "        self.nb_not_dead = 0\n",
    "        for i in range(len(solutions)):\n",
    "            joueur = Joueur(array_trou,array_balle,obstacles, nbre_mouvements)\n",
    "            joueur.nn.transform(solutions[i])\n",
    "            joueur.faire_partie()\n",
    "            joueur.evaluate_fitness()\n",
    "            self.liste_joueur.append(joueur)\n",
    "            if (not joueur.partie.is_dead):\n",
    "                self.nb_not_dead += 1\n",
    "        #print(self.nb_not_dead)\n",
    "        \n",
    "    def fitness_function(self,i):\n",
    "        fitness = -1\n",
    "        joueur = self.liste_joueur[i]\n",
    "        for i in range(len(self.liste_joueur)):\n",
    "            if (not self.liste_joueur[i].partie.is_dead):\n",
    "                distance = np.sqrt((joueur.partie.balle.position[0] - self.liste_joueur[i].partie.balle.position[0])**2 + \\\n",
    "                                   (joueur.partie.balle.position[1] - self.liste_joueur[i].partie.balle.position[1])**2)\n",
    "                #print(distance)\n",
    "                fitness += (distance /self.nb_not_dead)**2\n",
    "        #print(fitness)\n",
    "        fitness = fitness * joueur.fitness\n",
    "        #if (not joueur.partie.is_dead):\n",
    "            #print(\"novelty : \"+str(fitness/joueur.fitness))\n",
    "            #print(\"distance au trou : \"+str(joueur.distance_trou))\n",
    "            #print(joueur.partie.balle.position)\n",
    "            #print(\"total fitness : \"+str(fitness))\n",
    "\n",
    "        return fitness\n",
    "        \n",
    "        \n",
    "            \n",
    "        \n",
    "        \n",
    "\n"
   ]
  },
  {
   "cell_type": "code",
   "execution_count": 7,
   "metadata": {
    "collapsed": true
   },
   "outputs": [],
   "source": [
    "###### CLASSE NEURAL NETWORK\n",
    "class Simple_nn:\n",
    "    def __init__(self, N_in, N1,N_out):\n",
    "        self.fitness = 0\n",
    "        self.l1 = np.random.random((N_in,N1))\n",
    "        self.l2 = np.random.random((N1,N2))\n",
    "        self.out = np.random.random((N2,N_out))\n",
    "    \n",
    "    def compute(self,inputs):\n",
    "        x = np.dot(self.l1,np.reshape(inputs,(N_in,1)))\n",
    "        x = np.dot(self.l2, x)\n",
    "        x = np.dot(self.out,x)\n",
    "        #print(x)\n",
    "        x = x/(N_in*N1)\n",
    "        #print(x)\n",
    "        x = x.flatten()\n",
    "        x = np.abs(x)\n",
    "        v = x[0,0]\n",
    "        angle = angles[ np.argmax(x[0,1:]) ]\n",
    "        return ([v, angle])\n",
    "    \n",
    "    def transform(self, genes):\n",
    "        layers = [self.l1.flatten(),self.l2.flatten(),self.out.flatten()]\n",
    "        L = 0\n",
    "        j = 0\n",
    "        for i in range(len(genes)):\n",
    "            if j >= len(layers[L]):\n",
    "                L += 1\n",
    "                j = 0\n",
    "            layers[L][j] = genes[i]\n",
    "            j += 1\n",
    "        self.l1 = np.reshape(np.asmatrix(layers[0]),(N1,N_in))\n",
    "        self.l2 = np.reshape(np.asmatrix(layers[1]),(N2,N1))\n",
    "        self.out = np.reshape(np.asmatrix(layers[2]),(N_out,N2))  "
   ]
  },
  {
   "cell_type": "code",
   "execution_count": 8,
   "metadata": {
    "collapsed": true
   },
   "outputs": [],
   "source": [
    "#### CLASSE SEGMENT\n",
    "\n",
    "class Segment:\n",
    "    def __init__(self,array1,array2):\n",
    "        self.depart = array1\n",
    "        self.arrivee = array2\n",
    "        \n",
    "    def cross(self , segment):\n",
    "        ab = [self.arrivee[0] - self.depart[0] , self.arrivee[1] - self.depart[1]]\n",
    "        apbp = [segment.arrivee[0] - segment.depart[0] , segment.arrivee[1] - segment.depart[1]]\n",
    "        abp = [segment.arrivee[0] - self.depart[0], segment.arrivee[1] - self.depart[1]]\n",
    "        aap = [segment.depart[0] - self.depart[0], segment.depart[1] - self.depart[1] ]\n",
    "        apb = [self.arrivee[0] - segment.depart[0] , self.arrivee[1] - segment.depart[1]]\n",
    "        apa = [self.depart[0] - segment.depart[0] , self.depart[1] - segment.depart[1]]\n",
    "        \n",
    "        c1 = produitvectoriel(ab,apbp) != 0\n",
    "        c2 = (produitvectoriel(ab,abp) * produitvectoriel(ab,aap))<=0\n",
    "        c3 = (produitvectoriel(apbp,apb) * produitvectoriel(apbp,apa))<=0\n",
    "        return(c1 and c2 and c3)"
   ]
  },
  {
   "cell_type": "code",
   "execution_count": 9,
   "metadata": {
    "collapsed": true
   },
   "outputs": [],
   "source": [
    "##### CLASSE TROU\n",
    "\n",
    "class Trou:\n",
    "    def __init__(self, array):\n",
    "        self.position = array.copy()\n",
    " "
   ]
  },
  {
   "cell_type": "code",
   "execution_count": 10,
   "metadata": {
    "collapsed": true
   },
   "outputs": [],
   "source": [
    "##### CLASSE BALLE\n",
    "\n",
    "class Balle:\n",
    "    def __init__(self, array):\n",
    "        self.position = array.copy()"
   ]
  },
  {
   "cell_type": "code",
   "execution_count": 11,
   "metadata": {
    "collapsed": true
   },
   "outputs": [],
   "source": [
    "##### CLASSE PARTIE\n",
    "\n",
    "class Partie:\n",
    "    def __init__(self, arrayballe,arraytrou, obstacles):\n",
    "        self.matrice = np.zeros((800,800),dtype = float)\n",
    "        self.balle = Balle(arrayballe)\n",
    "        self.trou = Trou(arraytrou)\n",
    "        self.obstacles = obstacles\n",
    "        self.is_dead = False\n",
    "        self.nb_coups = 1\n",
    "        self.reached_goal = False \n",
    "        #self.remplir_matrice()\n",
    "        \n",
    "    def is_won(self):\n",
    "        distance = np.sqrt((self.trou.position[0] - self.balle.position[0])**2 + (self.trou.position[1] - self.balle.position[1])**2 )\n",
    "       # print(distance)\n",
    "        if distance < rt :\n",
    "            self.reached_goal = True\n",
    "    \n",
    "    def is_possible_move(self,segment_dep):\n",
    "        liste_obstacles_cross = []\n",
    "        for i in self.obstacles: # Pour tous les obstacles\n",
    "            if i.cross(segment_dep): # Si un segment_dep et i se croisent alors le move n'est pas possible\n",
    "                    liste_obstacles_cross.append(i)\n",
    "        if len(liste_obstacles_cross) > 0 :\n",
    "            liste_distances = []\n",
    "            liste_inter = []\n",
    "            for i in liste_obstacles_cross:\n",
    "                if (segment_dep.depart[0] - segment_dep.arrivee[0] == 0):\n",
    "                    a_i = (i.depart[1] - i.arrivee[1]) / (i.depart[0] - i.arrivee[0])\n",
    "                    b_i = i.depart[1] - a_i *i.depart[0]\n",
    "                    x_inter = segment_dep.depart[0]\n",
    "                    y_inter = a_i * x_inter + b_i\n",
    "                    liste_inter.append([x_inter , y_inter])\n",
    "                    \n",
    "                    \n",
    "                elif (i.depart[0] - i.arrivee[0] == 0):\n",
    "                    a_segment_dep = (segment_dep.depart[1] - segment_dep.arrivee[1]) / (segment_dep.depart[0] - segment_dep.arrivee[0])\n",
    "                    b_segment_dep = segment_dep.depart[1] - a_segment_dep * segment_dep.depart[0]\n",
    "                    x_inter = i.depart[0]\n",
    "                    y_inter = a_segment_dep * x_inter + b_segment_dep\n",
    "                    liste_inter.append([x_inter , y_inter])\n",
    "                \n",
    "                else :\n",
    "                    a_segment_dep = (segment_dep.depart[1] - segment_dep.arrivee[1]) / (segment_dep.depart[0] - segment_dep.arrivee[0])\n",
    "                    b_segment_dep = segment_dep.depart[1] - a_segment_dep * segment_dep.depart[0]\n",
    "                    a_i = (i.depart[1] - i.arrivee[1]) / (i.depart[0] - i.arrivee[0])\n",
    "                    b_i = i.depart[1] - a_i *i.depart[0]\n",
    "                    x_inter = (b_i - b_segment_dep) / (a_segment_dep - a_i)\n",
    "                    y_inter = a_i * x_inter + b_i\n",
    "                    liste_inter.append([x_inter , y_inter])\n",
    "                \n",
    "                liste_distances.append(np.sqrt( (x_inter - self.balle.position[0])**2 + (y_inter - self.balle.position[1])**2))\n",
    "            self.balle.position[0] = liste_inter[liste_distances.index(min(liste_distances))][0]\n",
    "            self.balle.position[1] = liste_inter[liste_distances.index(min(liste_distances))][1]\n",
    "                \n",
    "            return False\n",
    "        return True\n",
    "    \n",
    "    def remplir_matrice(self):\n",
    "        self.matrice = np.zeros((800,800))\n",
    "        #draw_circle(self.matrice, int(self.balle.position[0]),int(self.balle.position[1]),rb,1)\n",
    "        draw_circle(self.matrice,int(self.trou.position[0]),int(self.trou.position[1]),rt,0.2)\n",
    "        for i in obstacles:\n",
    "            draw_segment(self.matrice, i.depart,i.arrivee)\n",
    "        \n",
    "    def deplacement(self,vitesse_initiale): # La vitesse sera de la forme [ ||v|| , theta)]\n",
    "        #print(\"vitesse initiale :\"+str(vitesse_initiale[0]))\n",
    "        distance =0.5*m/f*vitesse_initiale[0]*ratio_distance\n",
    "        #print(\"distance : \"+str(distance))\n",
    "        #print(vitesse_initiale[1])\n",
    "        #print(np.cos(vitesse_initiale[1]))\n",
    "        #print(np.sin(vitesse_initiale[1]))\n",
    "        segment_dep = Segment([self.balle.position[0],self.balle.position[1]],[self.balle.position[0] + np.cos(vitesse_initiale[1]) * distance,self.balle.position[1] + np.sin(vitesse_initiale[1]) * distance] )\n",
    "        self.is_won()\n",
    "        \n",
    "        if self.reached_goal:\n",
    "            return (self.balle.position[0],self.balle.position[1])\n",
    "        if self.is_possible_move(segment_dep):\n",
    "            self.nb_coups +=1\n",
    "            #print(\"increment x : \"+str(np.cos(vitesse_initiale[1]) * distance))\n",
    "            #print(\"increment y : \"+str(np.sin(vitesse_initiale[1]) * distance))\n",
    "            self.balle.position[0] += np.cos(vitesse_initiale[1]) * distance\n",
    "            self.balle.position[1] += np.sin(vitesse_initiale[1]) * distance  \n",
    "        else :\n",
    "            self.is_dead = True\n",
    "        return (self.balle.position[0],self.balle.position[1])\n",
    "    \n",
    "    def closest_distance(self,angle):\n",
    "        x = self.balle.position[0]\n",
    "        y = self.balle.position[1]\n",
    "        xf = x + 8000*np.cos(angle)\n",
    "        yf = y + 8000*np.sin(angle)\n",
    "        segment_dep = Segment([x,y],[xf,yf])\n",
    "        liste_obstacles_cross = []\n",
    "        liste_distances = []\n",
    "        liste_inter = []\n",
    "        \n",
    "        for i in self.obstacles: # Pour tous les obstacles\n",
    "            if i.cross(segment_dep): # Si un segment_dep et i se croisent alors le move n'est pas possible\n",
    "                    liste_obstacles_cross.append(i)\n",
    "        for i in liste_obstacles_cross:\n",
    "            if (segment_dep.depart[0] - segment_dep.arrivee[0] == 0):\n",
    "                a_i = (i.depart[1] - i.arrivee[1]) / (i.depart[0] - i.arrivee[0])\n",
    "                b_i = i.depart[1] - a_i *i.depart[0]\n",
    "                x_inter = segment_dep.depart[0]\n",
    "                y_inter = a_i * x_inter + b_i\n",
    "                liste_inter.append([x_inter , y_inter])\n",
    "\n",
    "\n",
    "            elif (i.depart[0] - i.arrivee[0] == 0):\n",
    "                a_segment_dep = (segment_dep.depart[1] - segment_dep.arrivee[1]) / (segment_dep.depart[0] - segment_dep.arrivee[0])\n",
    "                b_segment_dep = segment_dep.depart[1] - a_segment_dep * segment_dep.depart[0]\n",
    "                x_inter = i.depart[0]\n",
    "                y_inter = a_segment_dep * x_inter + b_segment_dep\n",
    "                liste_inter.append([x_inter , y_inter])\n",
    "\n",
    "            else :\n",
    "                a_segment_dep = (segment_dep.depart[1] - segment_dep.arrivee[1]) / (segment_dep.depart[0] - segment_dep.arrivee[0])\n",
    "                b_segment_dep = segment_dep.depart[1] - a_segment_dep * segment_dep.depart[0]\n",
    "                a_i = (i.depart[1] - i.arrivee[1]) / (i.depart[0] - i.arrivee[0])\n",
    "                b_i = i.depart[1] - a_i *i.depart[0]\n",
    "                x_inter = (b_i - b_segment_dep) / (a_segment_dep - a_i)\n",
    "                y_inter = a_i * x_inter + b_i\n",
    "                liste_inter.append([x_inter , y_inter])\n",
    "\n",
    "            liste_distances.append(np.sqrt( (x_inter - self.balle.position[0])**2 + (y_inter - self.balle.position[1])**2))\n",
    "        inter_x = liste_inter[liste_distances.index(min(liste_distances))][0]\n",
    "        inter_y = liste_inter[liste_distances.index(min(liste_distances))][1]\n",
    "\n",
    "        distance = np.sqrt((x-inter_x)**2 + (y-inter_y)**2)\n",
    "        return distance\n",
    "    \n",
    "    \n",
    "    \n",
    "    def distances(self):\n",
    "        distances = []\n",
    "        for i in range(k):\n",
    "            distances.append(self.closest_distance(angles[i]))\n",
    "        return distances"
   ]
  },
  {
   "cell_type": "code",
   "execution_count": 12,
   "metadata": {},
   "outputs": [
    {
     "data": {
      "text/plain": [
       "<matplotlib.figure.Figure at 0x11a371630>"
      ]
     },
     "metadata": {},
     "output_type": "display_data"
    },
    {
     "data": {
      "image/png": "[encoded data removed]",
      "text/plain": [
       "<matplotlib.figure.Figure at 0x110ad7588>"
      ]
     },
     "metadata": {},
     "output_type": "display_data"
    },
    {
     "name": "stdout",
     "output_type": "stream",
     "text": [
      "[20.0, 20.44681189730058, 21.892725570120927, 17.013016167040764, 13.456327296063765, 11.547005383792529, 10.514622242382668, 10.055082795635172, 10.055082795635162, 10.514622242382634, 11.547005383792529, 13.456327296063842, 17.013016167040764, 24.585933355742338, 48.09734344744109, 580.0, 592.9575450217169, 344.2030669803933, 238.18222633857118, 188.38858214489272, 161.65807537309527, 147.2047113933574, 140.77115913889233, 140.7711591388923, 64.72135954999561, 39.999999999999936, 29.889530997292187, 24.721359549995775, 21.892725570120927, 20.44681189730058]\n"
     ]
    }
   ],
   "source": [
    "#DEFINITION DE LA PARTIE\n",
    "obstacles = []\n",
    "# On ajoute les murs\n",
    "obstacles.append(Segment([100,100],[100,700]))\n",
    "obstacles.append(Segment([100,100],[700,100]))\n",
    "obstacles.append(Segment([100,700],[700,700]))\n",
    "obstacles.append(Segment([700,100],[700,700]))\n",
    "# On ajoute les obstacles\n",
    "obstacles.append(Segment([100,500],[500,500]))\n",
    "#obstacles.append(Segment([700,350],[200,350]))\n",
    "obstacles.append(Segment([700,550],[200,550]))\n",
    "\n",
    "\n",
    "array_balle = [680,690]\n",
    "array_trou = [650,150]\n",
    "partie = Partie(array_balle,array_trou, obstacles)\n",
    "\n",
    "partie.remplir_matrice()\n",
    "plt.figure(figsize = (800,800))\n",
    "im1 = plt.matshow(partie.matrice, interpolation = 'bilinear')\n",
    "plt.colorbar(im1)\n",
    "plt.plot([])\n",
    "plt.show()\n",
    "a = partie.distances()\n",
    "print(a)\n",
    "    "
   ]
  },
  {
   "cell_type": "code",
   "execution_count": 13,
   "metadata": {},
   "outputs": [
    {
     "name": "stdout",
     "output_type": "stream",
     "text": [
      "(11_w,23)-aCMA-ES (mu_w=6.7,w_1=25%) in dimension 750 (seed=243574, Sun May 10 12:43:46 2020)\n",
      "Iterat #Fevals   function value  axis ratio  sigma  min&max std  t[m:s]\n",
      "    1     23 -1.029831787889720e-03 1.0e+00 1.98e-01  2e-01  2e-01 0:01.0\n",
      "    2     46 -3.217397578598134e-02 1.0e+00 1.96e-01  2e-01  2e-01 0:02.0\n",
      "    3     69 3.169271986997489e-06 1.0e+00 1.95e-01  2e-01  2e-01 0:03.1\n",
      "    5    115 -5.017484873965578e-02 1.0e+00 1.92e-01  2e-01  2e-01 0:07.0\n",
      "    7    161 -1.747551550491467e-02 1.0e+00 1.89e-01  2e-01  2e-01 0:11.9\n",
      "    9    207 -2.858532258623642e-02 1.0e+00 1.86e-01  2e-01  2e-01 0:18.0\n",
      "   11    253 -7.746949898495161e-03 1.0e+00 1.84e-01  2e-01  2e-01 0:24.8\n",
      "   14    322 -3.919378567272196e-02 1.0e+00 1.81e-01  2e-01  2e-01 0:34.7\n",
      "   17    391 -1.824028365694542e-02 1.0e+00 1.78e-01  2e-01  2e-01 0:46.0\n",
      "   21    483 -1.880682742403611e-02 1.0e+00 1.75e-01  2e-01  2e-01 0:58.5\n",
      "   24    552 -7.945707345499471e-03 1.0e+00 1.73e-01  2e-01  2e-01 1:11.1\n",
      "   27    621 -1.589775508581689e-02 1.0e+00 1.71e-01  2e-01  2e-01 1:25.2\n",
      "   31    713 -1.320488488720717e-02 1.0e+00 1.69e-01  2e-01  2e-01 1:41.3\n",
      "   35    805 -2.586703253827919e-02 1.0e+00 1.66e-01  2e-01  2e-01 1:58.5\n",
      "   39    897 -1.998431198735937e-02 1.0e+00 1.65e-01  2e-01  2e-01 2:13.6\n",
      "   42    966 -2.438194151312703e-02 1.0e+00 1.63e-01  2e-01  2e-01 2:30.0\n",
      "   46   1058 -1.688392957476157e-02 1.0e+00 1.62e-01  2e-01  2e-01 2:52.7\n",
      "   50   1150 -2.344209990819873e-02 1.0e+00 1.60e-01  2e-01  2e-01 3:13.0\n",
      "   55   1265 -2.983788151670877e-02 1.0e+00 1.59e-01  2e-01  2e-01 3:35.3\n",
      "   59   1357 -3.519519426726849e-02 1.0e+00 1.57e-01  2e-01  2e-01 3:56.3\n",
      "   63   1449 -3.838791877798389e-02 1.0e+00 1.56e-01  2e-01  2e-01 4:17.5\n",
      "   67   1541 -2.036696067272217e-02 1.0e+00 1.55e-01  2e-01  2e-01 4:42.4\n"
     ]
    },
    {
     "ename": "KeyboardInterrupt",
     "evalue": "",
     "output_type": "error",
     "traceback": [
      "\u001b[0;31m---------------------------------------------------------------------------\u001b[0m",
      "\u001b[0;31mKeyboardInterrupt\u001b[0m                         Traceback (most recent call last)",
      "\u001b[0;32m<ipython-input-13-0abd177e9c9a>\u001b[0m in \u001b[0;36m<module>\u001b[0;34m()\u001b[0m\n\u001b[1;32m      5\u001b[0m \u001b[0;32mwhile\u001b[0m \u001b[0;32mnot\u001b[0m \u001b[0mes\u001b[0m\u001b[0;34m.\u001b[0m\u001b[0mstop\u001b[0m\u001b[0;34m(\u001b[0m\u001b[0;34m)\u001b[0m\u001b[0;34m:\u001b[0m\u001b[0;34m\u001b[0m\u001b[0m\n\u001b[1;32m      6\u001b[0m     \u001b[0;31m#print(1)\u001b[0m\u001b[0;34m\u001b[0m\u001b[0;34m\u001b[0m\u001b[0m\n\u001b[0;32m----> 7\u001b[0;31m     \u001b[0msolutions\u001b[0m \u001b[0;34m=\u001b[0m \u001b[0mes\u001b[0m\u001b[0;34m.\u001b[0m\u001b[0mask\u001b[0m\u001b[0;34m(\u001b[0m\u001b[0;34m)\u001b[0m\u001b[0;34m\u001b[0m\u001b[0m\n\u001b[0m\u001b[1;32m      8\u001b[0m     \u001b[0;31m#print(2)\u001b[0m\u001b[0;34m\u001b[0m\u001b[0;34m\u001b[0m\u001b[0m\n\u001b[1;32m      9\u001b[0m     \u001b[0;31m#time.sleep(3)\u001b[0m\u001b[0;34m\u001b[0m\u001b[0;34m\u001b[0m\u001b[0m\n",
      "\u001b[0;32m~/anaconda3/lib/python3.6/site-packages/cma/evolution_strategy.py\u001b[0m in \u001b[0;36mask\u001b[0;34m(self, number, xmean, sigma_fac, gradf, args, **kwargs)\u001b[0m\n\u001b[1;32m   1874\u001b[0m         \u001b[0;32melse\u001b[0m\u001b[0;34m:\u001b[0m\u001b[0;34m\u001b[0m\u001b[0m\n\u001b[1;32m   1875\u001b[0m             \u001b[0mself\u001b[0m\u001b[0;34m.\u001b[0m\u001b[0mtimer\u001b[0m\u001b[0;34m.\u001b[0m\u001b[0mtic\u001b[0m\u001b[0;34m\u001b[0m\u001b[0m\n\u001b[0;32m-> 1876\u001b[0;31m         \u001b[0mpop_geno\u001b[0m \u001b[0;34m=\u001b[0m \u001b[0mself\u001b[0m\u001b[0;34m.\u001b[0m\u001b[0mask_geno\u001b[0m\u001b[0;34m(\u001b[0m\u001b[0mnumber\u001b[0m\u001b[0;34m,\u001b[0m \u001b[0mxmean\u001b[0m\u001b[0;34m,\u001b[0m \u001b[0msigma_fac\u001b[0m\u001b[0;34m)\u001b[0m\u001b[0;34m\u001b[0m\u001b[0m\n\u001b[0m\u001b[1;32m   1877\u001b[0m \u001b[0;34m\u001b[0m\u001b[0m\n\u001b[1;32m   1878\u001b[0m         \u001b[0;31m# N,lambda=20,200: overall CPU 7s vs 5s == 40% overhead, even without bounds!\u001b[0m\u001b[0;34m\u001b[0m\u001b[0;34m\u001b[0m\u001b[0m\n",
      "\u001b[0;32m~/anaconda3/lib/python3.6/site-packages/cma/evolution_strategy.py\u001b[0m in \u001b[0;36mask_geno\u001b[0;34m(self, number, xmean, sigma_fac)\u001b[0m\n\u001b[1;32m   2154\u001b[0m         \u001b[0;31m# compute ary\u001b[0m\u001b[0;34m\u001b[0m\u001b[0;34m\u001b[0m\u001b[0m\n\u001b[1;32m   2155\u001b[0m         \u001b[0;32mif\u001b[0m \u001b[0mNiid\u001b[0m \u001b[0;34m>=\u001b[0m \u001b[0;36m0\u001b[0m\u001b[0;34m:\u001b[0m  \u001b[0;31m# should better be true\u001b[0m\u001b[0;34m\u001b[0m\u001b[0m\n\u001b[0;32m-> 2156\u001b[0;31m             \u001b[0mary\u001b[0m \u001b[0;34m=\u001b[0m \u001b[0mself\u001b[0m\u001b[0;34m.\u001b[0m\u001b[0msigma_vec\u001b[0m \u001b[0;34m*\u001b[0m \u001b[0mnp\u001b[0m\u001b[0;34m.\u001b[0m\u001b[0masarray\u001b[0m\u001b[0;34m(\u001b[0m\u001b[0mself\u001b[0m\u001b[0;34m.\u001b[0m\u001b[0msm\u001b[0m\u001b[0;34m.\u001b[0m\u001b[0msample\u001b[0m\u001b[0;34m(\u001b[0m\u001b[0mNiid\u001b[0m\u001b[0;34m)\u001b[0m\u001b[0;34m)\u001b[0m\u001b[0;34m\u001b[0m\u001b[0m\n\u001b[0m\u001b[1;32m   2157\u001b[0m             \u001b[0mself\u001b[0m\u001b[0;34m.\u001b[0m\u001b[0m_updateBDfromSM\u001b[0m\u001b[0;34m(\u001b[0m\u001b[0mself\u001b[0m\u001b[0;34m.\u001b[0m\u001b[0msm\u001b[0m\u001b[0;34m)\u001b[0m  \u001b[0;31m# sm.sample invoked lazy update\u001b[0m\u001b[0;34m\u001b[0m\u001b[0m\n\u001b[1;32m   2158\u001b[0m             \u001b[0;31m# unconditional mirroring\u001b[0m\u001b[0;34m\u001b[0m\u001b[0;34m\u001b[0m\u001b[0m\n",
      "\u001b[0;32m~/anaconda3/lib/python3.6/site-packages/cma/sampler.py\u001b[0m in \u001b[0;36msample\u001b[0;34m(self, number, lazy_update_gap, same_length)\u001b[0m\n\u001b[1;32m    232\u001b[0m \u001b[0;34m\u001b[0m\u001b[0m\n\u001b[1;32m    233\u001b[0m     \u001b[0;32mdef\u001b[0m \u001b[0msample\u001b[0m\u001b[0;34m(\u001b[0m\u001b[0mself\u001b[0m\u001b[0;34m,\u001b[0m \u001b[0mnumber\u001b[0m\u001b[0;34m,\u001b[0m \u001b[0mlazy_update_gap\u001b[0m\u001b[0;34m=\u001b[0m\u001b[0;32mNone\u001b[0m\u001b[0;34m,\u001b[0m \u001b[0msame_length\u001b[0m\u001b[0;34m=\u001b[0m\u001b[0;32mFalse\u001b[0m\u001b[0;34m)\u001b[0m\u001b[0;34m:\u001b[0m\u001b[0;34m\u001b[0m\u001b[0m\n\u001b[0;32m--> 234\u001b[0;31m         \u001b[0mself\u001b[0m\u001b[0;34m.\u001b[0m\u001b[0mupdate_now\u001b[0m\u001b[0;34m(\u001b[0m\u001b[0mlazy_update_gap\u001b[0m\u001b[0;34m)\u001b[0m\u001b[0;34m\u001b[0m\u001b[0m\n\u001b[0m\u001b[1;32m    235\u001b[0m         \u001b[0marz\u001b[0m \u001b[0;34m=\u001b[0m \u001b[0mself\u001b[0m\u001b[0;34m.\u001b[0m\u001b[0mrandn\u001b[0m\u001b[0;34m(\u001b[0m\u001b[0mnumber\u001b[0m\u001b[0;34m,\u001b[0m \u001b[0mself\u001b[0m\u001b[0;34m.\u001b[0m\u001b[0mdimension\u001b[0m\u001b[0;34m)\u001b[0m\u001b[0;34m\u001b[0m\u001b[0m\n\u001b[1;32m    236\u001b[0m         \u001b[0;32mif\u001b[0m \u001b[0msame_length\u001b[0m\u001b[0;34m:\u001b[0m\u001b[0;34m\u001b[0m\u001b[0m\n",
      "\u001b[0;32m~/anaconda3/lib/python3.6/site-packages/cma/sampler.py\u001b[0m in \u001b[0;36mupdate_now\u001b[0;34m(self, lazy_update_gap)\u001b[0m\n\u001b[1;32m    309\u001b[0m             \u001b[0;32mreturn\u001b[0m\u001b[0;34m\u001b[0m\u001b[0m\n\u001b[1;32m    310\u001b[0m         \u001b[0mself\u001b[0m\u001b[0;34m.\u001b[0m\u001b[0m_updateC\u001b[0m\u001b[0;34m(\u001b[0m\u001b[0;34m)\u001b[0m\u001b[0;34m\u001b[0m\u001b[0m\n\u001b[0;32m--> 311\u001b[0;31m         \u001b[0mself\u001b[0m\u001b[0;34m.\u001b[0m\u001b[0m_decompose_C\u001b[0m\u001b[0;34m(\u001b[0m\u001b[0;34m)\u001b[0m\u001b[0;34m\u001b[0m\u001b[0m\n\u001b[0m\u001b[1;32m    312\u001b[0m         \u001b[0mself\u001b[0m\u001b[0;34m.\u001b[0m\u001b[0mlast_update\u001b[0m \u001b[0;34m=\u001b[0m \u001b[0mself\u001b[0m\u001b[0;34m.\u001b[0m\u001b[0mcount_tell\u001b[0m\u001b[0;34m\u001b[0m\u001b[0m\n\u001b[1;32m    313\u001b[0m \u001b[0;34m\u001b[0m\u001b[0m\n",
      "\u001b[0;32m~/anaconda3/lib/python3.6/site-packages/cma/sampler.py\u001b[0m in \u001b[0;36m_decompose_C\u001b[0;34m(self)\u001b[0m\n\u001b[1;32m    344\u001b[0m         \u001b[0mD_old\u001b[0m \u001b[0;34m=\u001b[0m \u001b[0mself\u001b[0m\u001b[0;34m.\u001b[0m\u001b[0mD\u001b[0m\u001b[0;34m\u001b[0m\u001b[0m\n\u001b[1;32m    345\u001b[0m         \u001b[0;32mtry\u001b[0m\u001b[0;34m:\u001b[0m\u001b[0;34m\u001b[0m\u001b[0m\n\u001b[0;32m--> 346\u001b[0;31m             \u001b[0mself\u001b[0m\u001b[0;34m.\u001b[0m\u001b[0mD\u001b[0m\u001b[0;34m,\u001b[0m \u001b[0mself\u001b[0m\u001b[0;34m.\u001b[0m\u001b[0mB\u001b[0m \u001b[0;34m=\u001b[0m \u001b[0mself\u001b[0m\u001b[0;34m.\u001b[0m\u001b[0meigenmethod\u001b[0m\u001b[0;34m(\u001b[0m\u001b[0mself\u001b[0m\u001b[0;34m.\u001b[0m\u001b[0mC\u001b[0m\u001b[0;34m)\u001b[0m\u001b[0;34m\u001b[0m\u001b[0m\n\u001b[0m\u001b[1;32m    347\u001b[0m             \u001b[0;32mif\u001b[0m \u001b[0many\u001b[0m\u001b[0;34m(\u001b[0m\u001b[0mself\u001b[0m\u001b[0;34m.\u001b[0m\u001b[0mD\u001b[0m \u001b[0;34m<=\u001b[0m \u001b[0;36m0\u001b[0m\u001b[0;34m)\u001b[0m\u001b[0;34m:\u001b[0m\u001b[0;34m\u001b[0m\u001b[0m\n\u001b[1;32m    348\u001b[0m                 raise ValueError(\n",
      "\u001b[0;32m<__array_function__ internals>\u001b[0m in \u001b[0;36meigh\u001b[0;34m(*args, **kwargs)\u001b[0m\n",
      "\u001b[0;32m~/.local/lib/python3.6/site-packages/numpy/linalg/linalg.py\u001b[0m in \u001b[0;36meigh\u001b[0;34m(a, UPLO)\u001b[0m\n\u001b[1;32m   1444\u001b[0m \u001b[0;34m\u001b[0m\u001b[0m\n\u001b[1;32m   1445\u001b[0m     \u001b[0msignature\u001b[0m \u001b[0;34m=\u001b[0m \u001b[0;34m'D->dD'\u001b[0m \u001b[0;32mif\u001b[0m \u001b[0misComplexType\u001b[0m\u001b[0;34m(\u001b[0m\u001b[0mt\u001b[0m\u001b[0;34m)\u001b[0m \u001b[0;32melse\u001b[0m \u001b[0;34m'd->dd'\u001b[0m\u001b[0;34m\u001b[0m\u001b[0m\n\u001b[0;32m-> 1446\u001b[0;31m     \u001b[0mw\u001b[0m\u001b[0;34m,\u001b[0m \u001b[0mvt\u001b[0m \u001b[0;34m=\u001b[0m \u001b[0mgufunc\u001b[0m\u001b[0;34m(\u001b[0m\u001b[0ma\u001b[0m\u001b[0;34m,\u001b[0m \u001b[0msignature\u001b[0m\u001b[0;34m=\u001b[0m\u001b[0msignature\u001b[0m\u001b[0;34m,\u001b[0m \u001b[0mextobj\u001b[0m\u001b[0;34m=\u001b[0m\u001b[0mextobj\u001b[0m\u001b[0;34m)\u001b[0m\u001b[0;34m\u001b[0m\u001b[0m\n\u001b[0m\u001b[1;32m   1447\u001b[0m     \u001b[0mw\u001b[0m \u001b[0;34m=\u001b[0m \u001b[0mw\u001b[0m\u001b[0;34m.\u001b[0m\u001b[0mastype\u001b[0m\u001b[0;34m(\u001b[0m\u001b[0m_realType\u001b[0m\u001b[0;34m(\u001b[0m\u001b[0mresult_t\u001b[0m\u001b[0;34m)\u001b[0m\u001b[0;34m,\u001b[0m \u001b[0mcopy\u001b[0m\u001b[0;34m=\u001b[0m\u001b[0;32mFalse\u001b[0m\u001b[0;34m)\u001b[0m\u001b[0;34m\u001b[0m\u001b[0m\n\u001b[1;32m   1448\u001b[0m     \u001b[0mvt\u001b[0m \u001b[0;34m=\u001b[0m \u001b[0mvt\u001b[0m\u001b[0;34m.\u001b[0m\u001b[0mastype\u001b[0m\u001b[0;34m(\u001b[0m\u001b[0mresult_t\u001b[0m\u001b[0;34m,\u001b[0m \u001b[0mcopy\u001b[0m\u001b[0;34m=\u001b[0m\u001b[0;32mFalse\u001b[0m\u001b[0;34m)\u001b[0m\u001b[0;34m\u001b[0m\u001b[0m\n",
      "\u001b[0;31mKeyboardInterrupt\u001b[0m: "
     ]
    }
   ],
   "source": [
    "x0 = np.random.randn(N_in*N1+N2*N1+ N2*N_out)\n",
    "es = cma.CMAEvolutionStrategy(x0,0.2)\n",
    "#help(cma.CMAEvolutionStrategy)\n",
    "\n",
    "while not es.stop():\n",
    "    #print(1)\n",
    "    solutions = es.ask()\n",
    "    #print(2)\n",
    "    #time.sleep(3)\n",
    "    population = Population(solutions, array_trou, array_balle, obstacles)\n",
    "    #print(3)\n",
    "    es.tell(solutions, [-population.fitness_function(i) for i in range(len(solutions))])\n",
    "    #print(4)\n",
    "    es.logger.add()\n",
    "    #print(5)\n",
    "    es.disp()\n",
    "    #for i in range(len(solutions)):\n",
    "        #if (not population.liste_joueur[i].partie.is_dead):\n",
    "         #   print(population.liste_joueur[i].partie.balle.position)\n",
    "    #population.destroy()\n",
    "    #print(6)\n",
    "        \n",
    "        \n",
    "    \n",
    "        "
   ]
  },
  {
   "cell_type": "code",
   "execution_count": null,
   "metadata": {
    "collapsed": true
   },
   "outputs": [],
   "source": []
  },
  {
   "cell_type": "code",
   "execution_count": null,
   "metadata": {
    "collapsed": true
   },
   "outputs": [],
   "source": []
  },
  {
   "cell_type": "code",
   "execution_count": null,
   "metadata": {
    "collapsed": true
   },
   "outputs": [],
   "source": []
  },
  {
   "cell_type": "code",
   "execution_count": null,
   "metadata": {
    "collapsed": true
   },
   "outputs": [],
   "source": []
  },
  {
   "cell_type": "code",
   "execution_count": null,
   "metadata": {
    "collapsed": true
   },
   "outputs": [],
   "source": []
  },
  {
   "cell_type": "code",
   "execution_count": null,
   "metadata": {
    "collapsed": true
   },
   "outputs": [],
   "source": []
  },
  {
   "cell_type": "code",
   "execution_count": null,
   "metadata": {
    "collapsed": true
   },
   "outputs": [],
   "source": []
  },
  {
   "cell_type": "code",
   "execution_count": null,
   "metadata": {
    "collapsed": true
   },
   "outputs": [],
   "source": []
  },
  {
   "cell_type": "code",
   "execution_count": null,
   "metadata": {
    "collapsed": true
   },
   "outputs": [],
   "source": []
  },
  {
   "cell_type": "code",
   "execution_count": null,
   "metadata": {
    "collapsed": true
   },
   "outputs": [],
   "source": []
  },
  {
   "cell_type": "code",
   "execution_count": null,
   "metadata": {
    "collapsed": true
   },
   "outputs": [],
   "source": []
  },
  {
   "cell_type": "code",
   "execution_count": null,
   "metadata": {
    "collapsed": true
   },
   "outputs": [],
   "source": []
  },
  {
   "cell_type": "code",
   "execution_count": null,
   "metadata": {
    "collapsed": true
   },
   "outputs": [],
   "source": []
  },
  {
   "cell_type": "code",
   "execution_count": null,
   "metadata": {
    "collapsed": true
   },
   "outputs": [],
   "source": []
  }
 ],
 "metadata": {
  "kernelspec": {
   "display_name": "Python 3",
   "language": "python",
   "name": "python3"
  },
  "language_info": {
   "codemirror_mode": {
    "name": "ipython",
    "version": 3
   },
   "file_extension": ".py",
   "mimetype": "text/x-python",
   "name": "python",
   "nbconvert_exporter": "python",
   "pygments_lexer": "ipython3",
   "version": "3.6.2"
  }
 },
 "nbformat": 4,
 "nbformat_minor": 2
}
