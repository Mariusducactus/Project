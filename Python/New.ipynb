{
 "cells": [
  {
   "cell_type": "code",
   "execution_count": 1,
   "metadata": {},
   "outputs": [
    {
     "name": "stdout",
     "output_type": "stream",
     "text": [
      "pygame 1.9.6\n",
      "Hello from the pygame community. https://www.pygame.org/contribute.html\n"
     ]
    }
   ],
   "source": [
    "import matplotlib.pyplot as plt\n",
    "import pygame\n",
    "import numpy as np\n",
    "import math\n",
    "import random\n",
    "import copy"
   ]
  },
  {
   "cell_type": "code",
   "execution_count": 2,
   "metadata": {
    "collapsed": true
   },
   "outputs": [],
   "source": [
    "#### C'est le premier algo. Mutation uniquement. Pas de selection des meilleurs. \n",
    "### Tres limité"
   ]
  },
  {
   "cell_type": "code",
   "execution_count": 3,
   "metadata": {
    "collapsed": true
   },
   "outputs": [],
   "source": [
    "##### CONSTANTES\n",
    "\n",
    "f = 0.3\n",
    "rb = 5\n",
    "rt = 20\n",
    "dt = 0.0\n",
    "m = 1\n",
    "g = 9.81\n",
    "k = 2\n",
    "num_elites = 3\n",
    "nbre_mouvements = 50\n",
    "nb_gen = 50\n",
    "nb_pop = 100\n",
    "mutation_rate = 1/(nbre_mouvements*2)\n",
    "v_max = 10"
   ]
  },
  {
   "cell_type": "code",
   "execution_count": 4,
   "metadata": {
    "collapsed": true
   },
   "outputs": [],
   "source": [
    "###### FONCTIONS UTILES\n",
    "\n",
    "def produitvectoriel(vect1,vect2):\n",
    "    return (vect1[0]*vect2[1] - vect1[1]*vect2[0])\n",
    "\n",
    "def produitscalaire(vect1,vect2):\n",
    "    return(vect1[0]*vect2[0] + vect1[1]*vect2[1])\n"
   ]
  },
  {
   "cell_type": "code",
   "execution_count": 5,
   "metadata": {
    "collapsed": true
   },
   "outputs": [],
   "source": [
    "##### CLASSE JOUEUR\n",
    "\n",
    "\n",
    "class Joueur:\n",
    "    \n",
    "    \n",
    "    \n",
    "    def __init__(self, array_trou,array_balle,obstacles, nbre_mouvements):\n",
    "        self.is_best = False\n",
    "        self.fitness = 0\n",
    "        self.partie = Partie(array_balle,array_trou,obstacles)\n",
    "        self.liste_mouvements = []\n",
    "        self.liste_emplacements = [array_balle]\n",
    "        for i in range(nbre_mouvements):\n",
    "            v = random.random()*v_max\n",
    "            t = random.random()*2*np.pi\n",
    "            self.liste_mouvements.append([v,t])\n",
    "            \n",
    "    def evaluate_fitness(self):\n",
    "        \n",
    "        distance = np.sqrt((self.partie.trou.position[0] - self.partie.balle.position[0])**2 + (self.partie.trou.position[1] - self.partie.balle.position[1])**2 )\n",
    "        \n",
    "        if self.partie.reached_goal:\n",
    "            self.fitness = 3 + 10/(self.partie.nb_coups**2)\n",
    "        \n",
    "        else: \n",
    "            self.fitness = self.partie.nb_coups/distance**2 \n",
    "            \n",
    "        \n",
    "    def faire_moves(self):\n",
    "        for i in self.liste_mouvements:\n",
    "            self.liste_emplacements.append(self.partie.deplacement(i))\n",
    "    \n",
    "    def mutate(self):\n",
    "        for i in self.liste_mouvements:\n",
    "            if random.random() < mutation_rate:\n",
    "                i[0] = random.random()*v_max\n",
    "            if random.random() < mutation_rate:\n",
    "                i[1] = random.random()*2*np.pi\n",
    "    \n",
    "                "
   ]
  },
  {
   "cell_type": "code",
   "execution_count": 6,
   "metadata": {
    "collapsed": true
   },
   "outputs": [],
   "source": [
    "###### CLASSE POPULATION\n",
    "\n",
    "class Population:\n",
    "    def __init__(self, size, arraytrou, arrayballe, obstacles, nbre_mouvements):\n",
    "        self.liste_joueur = []\n",
    "        for i in range(size):\n",
    "            self.liste_joueur.append(Joueur(arraytrou, arrayballe, obstacles, nbre_mouvements))\n",
    "\n",
    "    def mutate_all(self,arraytrou, arrayballe, obstacles, nbre_mouvements):\n",
    "        for i in range(len(self.liste_joueur)):\n",
    "            self.liste_joueur[i].partie = Partie(arrayballe,arraytrou,obstacles)\n",
    "            nouveauJoueur = Joueur(arraytrou, arrayballe, obstacles, nbre_mouvements)\n",
    "            for j in range(nbre_mouvements):\n",
    "                nouveauJoueur.liste_mouvements.append(self.liste_joueur[i].liste_mouvements[j].copy())\n",
    "            nouveauJoueur.mutate()\n",
    "            self.liste_joueur[i].faire_moves()\n",
    "            self.liste_joueur[i].evaluate_fitness()\n",
    "            nouveauJoueur.faire_moves()\n",
    "            nouveauJoueur.evaluate_fitness()\n",
    "            #print(\"nb_coups du vieux : \"+ str(self.liste_joueur[i].partie.nb_coups))\n",
    "            #print(\"nb_coups du jeune : \"+ str(nouveauJoueur.partie.nb_coups))\n",
    "            if nouveauJoueur.fitness > self.liste_joueur[i].fitness :\n",
    "                self.liste_joueur[i] = nouveauJoueur\n",
    "    \n",
    "    \n",
    "    def step_ga(self,size, arraytrou,arrayballe,obstacles,nbre_mouvements):\n",
    "        liste = []\n",
    "        \n",
    "        for j in self.liste_joueur: \n",
    "            j.faire_moves()\n",
    "            j.evaluate_fitness()\n",
    "            \n",
    "        fits = [self.liste_joueur[i].fitness for i in range(nb_pop)]\n",
    "        \n",
    "        for i in range(num_elites):\n",
    "            liste.append(self.liste_joueur[i])\n",
    "            \n",
    "            \n",
    "            \n",
    "            \n",
    "        for i in range(num_elites,nb_pop):\n",
    "            parent = self.tournament_selection(k)\n",
    "            partie = Partie(arrayballe,arraytrou,obstacles)\n",
    "            child = Joueur(arraytrou, arrayballe, obstacles, nbre_mouvements)\n",
    "            child.partie = partie\n",
    "            for j in range(nbre_mouvements):\n",
    "                child.liste_mouvements[j] = parent.liste_mouvements[j].copy()\n",
    "            child.mutate()\n",
    "            child.faire_moves()\n",
    "            child.evaluate_fitness()\n",
    "            liste.append(child)\n",
    "            \n",
    "        self.liste_joueur = liste\n",
    "        \n",
    "        \n",
    "    def tournament_selection(self, k):\n",
    "        select = []\n",
    "        for i in range(k):\n",
    "            select.append(random.randint(0,nb_pop-1))\n",
    "        best = select[0]\n",
    "        for j in select:\n",
    "            if self.liste_joueur[j].fitness > self.liste_joueur[best].fitness:\n",
    "                best = j\n",
    "        return self.liste_joueur[best]   \n",
    "        \n",
    "                \n",
    "    def print_partie(self,arraytrou, arrayballe, obstacles, nbre_mouvements):\n",
    "        pygame.init()\n",
    "        win = pygame.display.set_mode((700,700))\n",
    "        pygame.display.set_caption(\"Le mini-golf de l'enfer\")\n",
    "        x_trou = int(arraytrou[0])\n",
    "        y_trou = int(arraytrou[1])\n",
    "        win.fill((0,128,0))\n",
    "        for i in obstacles:\n",
    "            pygame.draw.line(win, (0,0,0), i.depart, i.arrivee,10)\n",
    "\n",
    "        run = True\n",
    "        couleur = self.generer_couleur()\n",
    "        while run :\n",
    "\n",
    "            for i in range(nbre_mouvements): \n",
    "                pygame.time.delay(1)\n",
    "                for event in pygame.event.get():\n",
    "                    if event.type == pygame.QUIT:\n",
    "                        run = False\n",
    "                pygame.draw.circle(win, (0,0,0), (x_trou,y_trou), rt)\n",
    "                for obs in obstacles:\n",
    "                    pygame.draw.line(win, (0,0,0), obs.depart, obs.arrivee,10)\n",
    "                ind_coul = 0\n",
    "                for j in self.liste_joueur:\n",
    "                    pygame.draw.circle(win, couleur[ind_coul], (int(j.liste_emplacements[i][0]),int(j.liste_emplacements[i][1])), rb)\n",
    "                    pygame.display.update()\n",
    "                    ind_coul += 1\n",
    "                win.fill((0,128,0))\n",
    "        print(\"fin\")\n",
    "        pygame.display.flip()\n",
    "        pygame.quit()\n",
    "\n",
    "    def generer_couleur(self):\n",
    "        couleur = []\n",
    "        for i in range(nb_pop):\n",
    "            couleur.append((random.randint(0,250),random.randint(0,250),random.randint(0,250)))\n",
    "        print(couleur)\n",
    "        return couleur"
   ]
  },
  {
   "cell_type": "code",
   "execution_count": 7,
   "metadata": {
    "collapsed": true
   },
   "outputs": [],
   "source": [
    "#### CLASSE SEGMENT\n",
    "\n",
    "class Segment:\n",
    "    def __init__(self,array1,array2):\n",
    "        self.depart = array1\n",
    "        self.arrivee = array2\n",
    "        \n",
    "    def cross(self , segment):\n",
    "        ab = [self.arrivee[0] - self.depart[0] , self.arrivee[1] - self.depart[1]]\n",
    "        apbp = [segment.arrivee[0] - segment.depart[0] , segment.arrivee[1] - segment.depart[1]]\n",
    "        abp = [segment.arrivee[0] - self.depart[0], segment.arrivee[1] - self.depart[1]]\n",
    "        aap = [segment.depart[0] - self.depart[0], segment.depart[1] - self.depart[1] ]\n",
    "        apb = [self.arrivee[0] - segment.depart[0] , self.arrivee[1] - segment.depart[1]]\n",
    "        apa = [self.depart[0] - segment.depart[0] , self.depart[1] - segment.depart[1]]\n",
    "        \n",
    "        c1 = produitvectoriel(ab,apbp) != 0\n",
    "        c2 = (produitvectoriel(ab,abp) * produitvectoriel(ab,aap))<=0\n",
    "        c3 = (produitvectoriel(apbp,apb) * produitvectoriel(apbp,apa))<=0\n",
    "        return(c1 and c2 and c3)"
   ]
  },
  {
   "cell_type": "code",
   "execution_count": 8,
   "metadata": {
    "collapsed": true
   },
   "outputs": [],
   "source": [
    "\n",
    "##### CLASSE TROU\n",
    "\n",
    "class Trou:\n",
    "    def __init__(self, array):\n",
    "        self.position = array.copy()\n",
    " \n"
   ]
  },
  {
   "cell_type": "code",
   "execution_count": 9,
   "metadata": {
    "collapsed": true
   },
   "outputs": [],
   "source": [
    "##### CLASSE BALLE\n",
    "\n",
    "class Balle:\n",
    "    def __init__(self, array):\n",
    "        self.position = array.copy()\n"
   ]
  },
  {
   "cell_type": "code",
   "execution_count": 10,
   "metadata": {
    "collapsed": true
   },
   "outputs": [],
   "source": [
    "##### CLASSE PARTIE\n",
    "\n",
    "class Partie:\n",
    "    def __init__(self, arrayballe,arraytrou, obstacles):\n",
    "        self.balle = Balle(arrayballe)\n",
    "        self.trou = Trou(arraytrou)\n",
    "        self.obstacles = obstacles\n",
    "        self.is_dead = False\n",
    "        self.nb_coups = 1\n",
    "        self.reached_goal = False \n",
    "        \n",
    "    def is_won(self):\n",
    "        distance = np.sqrt((self.trou.position[0] - self.balle.position[0])**2 + (self.trou.position[1] - self.balle.position[1])**2 )\n",
    "       # print(distance)\n",
    "        if distance < rt :\n",
    "            self.reached_goal = True\n",
    "    \n",
    "    def is_possible_move(self,segment_dep):\n",
    "        liste_obstacles_cross = []\n",
    "        for i in self.obstacles: # Pour tous les obstacles\n",
    "            if i.cross(segment_dep): # Si un segment_dep et i se croisent alors le move n'est pas possible\n",
    "                    liste_obstacles_cross.append(i)\n",
    "        if len(liste_obstacles_cross) > 0 :\n",
    "            liste_distances = []\n",
    "            liste_inter = []\n",
    "            for i in liste_obstacles_cross:\n",
    "                if (segment_dep.depart[0] - segment_dep.arrivee[0] == 0):\n",
    "                    a_i = (i.depart[1] - i.arrivee[1]) / (i.depart[0] - i.arrivee[0])\n",
    "                    b_i = i.depart[1] - a_i *i.depart[0]\n",
    "                    x_inter = segment_dep.depart[0]\n",
    "                    y_inter = a_i * x_inter + b_i\n",
    "                    liste_inter.append([x_inter , y_inter])\n",
    "                    \n",
    "                    \n",
    "                elif (i.depart[0] - i.arrivee[0] == 0):\n",
    "                    a_segment_dep = (segment_dep.depart[1] - segment_dep.arrivee[1]) / (segment_dep.depart[0] - segment_dep.arrivee[0])\n",
    "                    b_segment_dep = segment_dep.depart[1] - a_segment_dep * segment_dep.depart[0]\n",
    "                    x_inter = i.depart[0]\n",
    "                    y_inter = a_segment_dep * x_inter + b_segment_dep\n",
    "                    liste_inter.append([x_inter , y_inter])\n",
    "                \n",
    "                else :\n",
    "                    a_segment_dep = (segment_dep.depart[1] - segment_dep.arrivee[1]) / (segment_dep.depart[0] - segment_dep.arrivee[0])\n",
    "                    b_segment_dep = segment_dep.depart[1] - a_segment_dep * segment_dep.depart[0]\n",
    "                    a_i = (i.depart[1] - i.arrivee[1]) / (i.depart[0] - i.arrivee[0])\n",
    "                    b_i = i.depart[1] - a_i *i.depart[0]\n",
    "                    x_inter = (b_i - b_segment_dep) / (a_segment_dep - a_i)\n",
    "                    y_inter = a_i * x_inter + b_i\n",
    "                    liste_inter.append([x_inter , y_inter])\n",
    "                \n",
    "                liste_distances.append(np.sqrt( (x_inter - self.balle.position[0])**2 + (y_inter - self.balle.position[1])**2))\n",
    "            self.balle.position[0] = liste_inter[liste_distances.index(min(liste_distances))][0]\n",
    "            self.balle.position[1] = liste_inter[liste_distances.index(min(liste_distances))][1]\n",
    "                \n",
    "            return False\n",
    "        return True\n",
    "    \n",
    "    \n",
    "    def deplacement(self,vitesse_initiale): # La vitesse sera de la forme [ ||v|| , theta)]\n",
    "        distance =0.5*m/f*vitesse_initiale[0]**2\n",
    "       # print(vitesse_initiale[0])\n",
    "        segment_dep = Segment([self.balle.position[0],self.balle.position[1]],[self.balle.position[0] + np.cos(vitesse_initiale[1]) * distance,self.balle.position[1] + np.sin(vitesse_initiale[1]) * distance] )\n",
    "        self.is_won()\n",
    "        \n",
    "        if self.reached_goal:\n",
    "            return (self.balle.position[0],self.balle.position[1])\n",
    "        if self.is_possible_move(segment_dep):\n",
    "            self.nb_coups +=1\n",
    "            self.balle.position[0] += np.cos(vitesse_initiale[1]) * distance\n",
    "            self.balle.position[1] += np.sin(vitesse_initiale[1]) * distance  \n",
    "        else :\n",
    "            self.is_dead = True\n",
    "            #print(\"La balle est sur le mur\")\n",
    "        return (self.balle.position[0],self.balle.position[1])\n",
    "    \n",
    "    def plot_fitness(self):\n",
    "        mat = np.zeros((700,700))\n",
    "        for i in range(700):\n",
    "            for j in range(700):\n",
    "                mat[i,j] = np.sqrt((self.trou.position[0] - i)**2 + (self.trou.position[1] - j)**2 )\n",
    "        return mat\n",
    "\n",
    "\n",
    "\n"
   ]
  },
  {
   "cell_type": "code",
   "execution_count": 11,
   "metadata": {},
   "outputs": [
    {
     "data": {
      "text/plain": [
       "<matplotlib.figure.Figure at 0x10e5e7cc0>"
      ]
     },
     "metadata": {},
     "output_type": "display_data"
    },
    {
     "data": {
      "image/png": "[encoded data removed]",
      "text/plain": [
       "<matplotlib.figure.Figure at 0x104dbcac8>"
      ]
     },
     "metadata": {},
     "output_type": "display_data"
    },
    {
     "name": "stdout",
     "output_type": "stream",
     "text": [
      "Calculating generation : 1\n",
      "Calculating generation : 2\n",
      "Calculating generation : 3\n",
      "Calculating generation : 4\n",
      "Calculating generation : 5\n",
      "Calculating generation : 6\n",
      "Calculating generation : 7\n",
      "Calculating generation : 8\n",
      "Calculating generation : 9\n",
      "Calculating generation : 10\n",
      "Calculating generation : 11\n",
      "Calculating generation : 12\n",
      "Calculating generation : 13\n",
      "Calculating generation : 14\n",
      "Calculating generation : 15\n",
      "Calculating generation : 16\n",
      "Calculating generation : 17\n",
      "Calculating generation : 18\n",
      "Calculating generation : 19\n",
      "Calculating generation : 20\n",
      "Calculating generation : 21\n",
      "Calculating generation : 22\n",
      "Calculating generation : 23\n",
      "Calculating generation : 24\n",
      "Calculating generation : 25\n",
      "Calculating generation : 26\n",
      "Calculating generation : 27\n",
      "Calculating generation : 28\n",
      "Calculating generation : 29\n",
      "Calculating generation : 30\n",
      "Calculating generation : 31\n",
      "Calculating generation : 32\n",
      "Calculating generation : 33\n",
      "Calculating generation : 34\n",
      "Calculating generation : 35\n",
      "Calculating generation : 36\n",
      "Calculating generation : 37\n",
      "Calculating generation : 38\n",
      "Calculating generation : 39\n",
      "Calculating generation : 40\n",
      "Calculating generation : 41\n",
      "Calculating generation : 42\n",
      "Calculating generation : 43\n",
      "Calculating generation : 44\n",
      "Calculating generation : 45\n",
      "Calculating generation : 46\n",
      "Calculating generation : 47\n",
      "Calculating generation : 48\n",
      "Calculating generation : 49\n",
      "Calculating generation : 50\n"
     ]
    },
    {
     "data": {
      "image/png": "[encoded data removed]",
      "text/plain": [
       "<matplotlib.figure.Figure at 0x1055575f8>"
      ]
     },
     "metadata": {},
     "output_type": "display_data"
    },
    {
     "name": "stdout",
     "output_type": "stream",
     "text": [
      "[(11, 197, 151), (72, 107, 177), (189, 109, 248), (241, 125, 139), (245, 62, 177), (162, 92, 146), (167, 98, 212), (92, 170, 48), (180, 103, 76), (17, 79, 19), (243, 188, 191), (75, 48, 103), (140, 81, 66), (57, 83, 185), (112, 103, 28), (241, 23, 43), (21, 14, 153), (156, 79, 1), (203, 217, 153), (9, 125, 43), (185, 100, 90), (73, 10, 157), (32, 230, 94), (77, 132, 136), (244, 206, 19), (169, 220, 174), (154, 241, 95), (111, 194, 22), (25, 130, 231), (127, 13, 166), (108, 157, 208), (100, 216, 60), (7, 244, 80), (109, 243, 199), (22, 128, 94), (88, 163, 26), (36, 60, 234), (192, 66, 29), (211, 109, 78), (50, 140, 15), (211, 125, 191), (63, 91, 178), (146, 244, 159), (183, 159, 48), (152, 202, 224), (196, 91, 43), (74, 236, 227), (162, 59, 128), (60, 184, 61), (234, 40, 150), (159, 249, 73), (48, 75, 22), (249, 201, 181), (22, 110, 236), (63, 124, 132), (149, 207, 76), (100, 82, 173), (72, 83, 223), (124, 94, 33), (191, 177, 85), (195, 137, 33), (98, 198, 73), (214, 181, 109), (8, 174, 33), (215, 46, 52), (11, 108, 3), (77, 77, 100), (192, 42, 107), (89, 181, 70), (215, 109, 225), (123, 238, 188), (137, 67, 5), (85, 176, 215), (7, 246, 166), (180, 137, 226), (122, 26, 32), (132, 32, 179), (137, 66, 133), (163, 169, 216), (102, 36, 157), (219, 57, 4), (48, 83, 109), (104, 181, 91), (92, 19, 96), (0, 218, 227), (102, 17, 162), (105, 100, 14), (243, 66, 146), (240, 30, 2), (53, 239, 81), (231, 105, 233), (142, 243, 205), (70, 188, 202), (96, 108, 84), (159, 166, 18), (175, 38, 141), (188, 197, 104), (4, 0, 236), (66, 58, 182), (50, 220, 209)]\n",
      "fin\n",
      "La simulation est terminée.\n"
     ]
    }
   ],
   "source": [
    "#DEFINITION DE LA PARTIE\n",
    "obstacles = []\n",
    "# On ajoute les murs\n",
    "obstacles.append(Segment([0,0],[0,700]))\n",
    "obstacles.append(Segment([0,0],[700,0]))\n",
    "obstacles.append(Segment([700,0],[700,700]))\n",
    "obstacles.append(Segment([0,700],[700,700]))\n",
    "# On ajoute les obstacles\n",
    "obstacles.append(Segment([300,300],[900,300]))\n",
    "#obstacles.append(Segment([0,400],[400,400]))\n",
    "\n",
    "\n",
    "array_balle = [500,500]\n",
    "array_trou = [100,100]\n",
    "population = Population(nb_pop, array_trou, array_balle, obstacles, nbre_mouvements)\n",
    "partie = Partie(array_balle,array_trou, obstacles)\n",
    "\n",
    "plt.figure(1)\n",
    "mat = partie.plot_fitness()\n",
    "im1 = plt.matshow(mat)\n",
    "plt.title(\"Fitness\")\n",
    "plt.colorbar(im1)\n",
    "plt.plot([])\n",
    "plt.show()\n",
    "\n",
    "\n",
    "sumfits = []\n",
    "for i in range(nb_gen):\n",
    "    for j in range(len(population.liste_joueur)):\n",
    "        population.liste_joueur[j].partie = Partie(array_balle,array_trou,obstacles) # On reset la partie\n",
    "        population.liste_joueur[j].liste_emplacements = [array_balle]\n",
    "    #if ((i+1)%10 == 0):\n",
    "    print(\"Calculating generation : \"+str(i+1))\n",
    "    population.step_ga(nb_pop, array_trou,array_balle,obstacles,nbre_mouvements)\n",
    "    population.liste_joueur = sorted(population.liste_joueur, key=lambda joueur: joueur.fitness, reverse = True)\n",
    "    fits = [population.liste_joueur[i].fitness for i in range(nb_pop)]\n",
    "    sumfits.append(sum(fits))\n",
    "    \n",
    "    \n",
    "    \n",
    "plt.figure(2)\n",
    "plt.plot(sumfits)\n",
    "plt.show()\n",
    "    \n",
    "\n",
    "population.print_partie(array_trou, array_balle, obstacles, nbre_mouvements)\n",
    "    \n",
    "    \n",
    "print(\"La simulation est terminée.\")\n",
    "    \n",
    "\n",
    "\n",
    "\n",
    "\n",
    "\n",
    "\n"
   ]
  },
  {
   "cell_type": "markdown",
   "metadata": {
    "collapsed": true
   },
   "source": [
    " "
   ]
  },
  {
   "cell_type": "code",
   "execution_count": null,
   "metadata": {
    "collapsed": true
   },
   "outputs": [],
   "source": []
  },
  {
   "cell_type": "code",
   "execution_count": null,
   "metadata": {
    "collapsed": true
   },
   "outputs": [],
   "source": []
  },
  {
   "cell_type": "code",
   "execution_count": null,
   "metadata": {
    "collapsed": true
   },
   "outputs": [],
   "source": []
  }
 ],
 "metadata": {
  "kernelspec": {
   "display_name": "Python 3",
   "language": "python",
   "name": "python3"
  },
  "language_info": {
   "codemirror_mode": {
    "name": "ipython",
    "version": 3
   },
   "file_extension": ".py",
   "mimetype": "text/x-python",
   "name": "python",
   "nbconvert_exporter": "python",
   "pygments_lexer": "ipython3",
   "version": "3.6.2"
  }
 },
 "nbformat": 4,
 "nbformat_minor": 2
}
