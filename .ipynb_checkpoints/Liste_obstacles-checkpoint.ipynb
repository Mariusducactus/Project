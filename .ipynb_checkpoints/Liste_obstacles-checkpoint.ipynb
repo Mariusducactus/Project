{
 "cells": [
  {
   "cell_type": "code",
   "execution_count": 6,
   "metadata": {
    "collapsed": true
   },
   "outputs": [],
   "source": [
    "using Plots\n",
    "using GeometryTypes"
   ]
  },
  {
   "cell_type": "code",
   "execution_count": 3,
   "metadata": {},
   "outputs": [
    {
     "data": {
      "text/plain": [
       "4-element Array{Simplex{2,Array{Float64,1}},1}:\n",
       " [[0.0, 0.0], [1.0, 0.0]]\n",
       " [[0.0, 0.0], [0.0, 1.0]]\n",
       " [[0.0, 1.0], [1.0, 1.0]]\n",
       " [[1.0, 0.0], [1.0, 1.0]]"
      ]
     },
     "execution_count": 3,
     "metadata": {},
     "output_type": "execute_result"
    }
   ],
   "source": [
    "a = LineSegment([0.,0.],[1.,0.])\n",
    "b = LineSegment([0.,0.],[0.,1.])\n",
    "c = LineSegment([0.,1.],[1.,1.])\n",
    "d = LineSegment([1.,0.],[1.,1.])\n",
    "\n",
    "\n",
    "obstacles = [a,b,c,d]"
   ]
  },
  {
   "cell_type": "code",
   "execution_count": 4,
   "metadata": {},
   "outputs": [
    {
     "data": {
      "text/plain": [
       "6-element Array{Simplex{2,Array{Float64,1}},1}:\n",
       " [[0.0, 0.0], [1.0, 0.0]]\n",
       " [[0.0, 0.0], [0.0, 1.0]]\n",
       " [[0.0, 1.0], [1.0, 1.0]]\n",
       " [[1.0, 0.0], [1.0, 1.0]]\n",
       " [[0.0, 0.5], [0.6, 0.5]]\n",
       " [[0.4, 0.4], [0.6, 0.4]]"
      ]
     },
     "execution_count": 4,
     "metadata": {},
     "output_type": "execute_result"
    }
   ],
   "source": [
    "a = LineSegment([0.,0.],[1.,0.])\n",
    "b = LineSegment([0.,0.],[0.,1.])\n",
    "c = LineSegment([0.,1.],[1.,1.])\n",
    "d = LineSegment([1.,0.],[1.,1.])\n",
    "\n",
    "e = LineSegment([0.,0.5],[0.6,0.5])\n",
    "f = LineSegment([0.4,0.4],[0.6,0.4])\n",
    "\n",
    "\n",
    "obstacles = [a,b,c,d,e,f]"
   ]
  },
  {
   "cell_type": "code",
   "execution_count": 7,
   "metadata": {},
   "outputs": [
    {
     "data": {
      "text/plain": [
       "plot (generic function with 3 methods)"
      ]
     },
     "execution_count": 7,
     "metadata": {},
     "output_type": "execute_result"
    }
   ],
   "source": [
    "plt = plot\n",
    "plot!(a)"
   ]
  },
  {
   "cell_type": "code",
   "execution_count": null,
   "metadata": {
    "collapsed": true
   },
   "outputs": [],
   "source": []
  }
 ],
 "metadata": {
  "kernelspec": {
   "display_name": "Julia 1.0.5",
   "language": "julia",
   "name": "julia-1.0"
  },
  "language_info": {
   "file_extension": ".jl",
   "mimetype": "application/julia",
   "name": "julia",
   "version": "1.0.5"
  }
 },
 "nbformat": 4,
 "nbformat_minor": 2
}
