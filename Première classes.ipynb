{
 "cells": [
  {
   "cell_type": "code",
<<<<<<< Updated upstream
   "execution_count": 24,
   "metadata": {},
   "outputs": [],
=======
   "execution_count": 18,
   "metadata": {},
   "outputs": [
    {
     "ename": "ArgumentError",
     "evalue": "ArgumentError: Package Makie not found in current path:\n- Run `import Pkg; Pkg.add(\"Makie\")` to install the Makie package.\n",
     "output_type": "error",
     "traceback": [
      "ArgumentError: Package Makie not found in current path:\n- Run `import Pkg; Pkg.add(\"Makie\")` to install the Makie package.\n",
      "",
      "Stacktrace:",
      " [1] require(::Module, ::Symbol) at ./loading.jl:823",
      " [2] top-level scope at In[18]:2"
     ]
    }
   ],
>>>>>>> Stashed changes
   "source": [
    "using Plots\n",
    "using Makie\n",
    "using GeometryTypes"
   ]
  },
  {
   "cell_type": "code",
   "execution_count": 25,
   "metadata": {},
   "outputs": [],
   "source": [
    "\n",
    "##### Constantes\n",
    "f=0.0::Float64\n",
    "rb=0.0::Float64\n",
    "rt=0.0::Float64\n",
    "dt=0.0::Float64\n",
    "m=0.0::Float64\n",
    "g=9.81; #m.s-2"
   ]
  },
  {
   "cell_type": "code",
   "execution_count": 27,
   "metadata": {},
   "outputs": [],
   "source": [
    "#### CLASSE JOUEUR"
   ]
  },
  {
   "cell_type": "code",
   "execution_count": 28,
   "metadata": {},
   "outputs": [
    {
     "ename": "LoadError",
     "evalue": "syntax: extra token \"struc\" after end of expression",
     "output_type": "error",
     "traceback": [
      "syntax: extra token \"struc\" after end of expression",
      ""
     ]
    }
   ],
   "source": [
    "mutable struc Joueur\n",
    "    partie::Partie\n",
    "end"
   ]
  },
  {
   "cell_type": "code",
   "execution_count": 29,
   "metadata": {},
   "outputs": [],
   "source": [
    "#### CLASSE PARTIE"
   ]
  },
  {
   "cell_type": "code",
   "execution_count": 34,
   "metadata": {},
   "outputs": [
    {
     "ename": "ErrorException",
     "evalue": "syntax: \"is_over = false::Bool\" inside type definition is reserved",
     "output_type": "error",
     "traceback": [
      "syntax: \"is_over = false::Bool\" inside type definition is reserved",
      ""
     ]
    }
   ],
   "source": [
    "mutable struct Partie\n",
    "    balle::Balle\n",
    "    trou::Trou\n",
    "    obstacles::Array{LineSegment,1}\n",
    "    nb_coups::Int\n",
    "    is_over=::Bool\n",
    "end"
   ]
  },
  {
   "cell_type": "code",
   "execution_count": 35,
   "metadata": {},
   "outputs": [
    {
     "data": {
      "text/plain": [
       "impulsionBalle! (generic function with 1 method)"
      ]
     },
     "execution_count": 35,
     "metadata": {},
     "output_type": "execute_result"
    }
   ],
   "source": [
    "function impulsionBalle!(balle::Balle, new_v::Float64, new_theta::Float64)\n",
    "    balle.v=new_v\n",
    "    balle.theta=new_theta\n",
    "end"
   ]
  },
  {
   "cell_type": "code",
   "execution_count": 36,
   "metadata": {},
   "outputs": [
    {
     "data": {
      "text/plain": [
       "dt! (generic function with 2 methods)"
      ]
     },
     "execution_count": 36,
     "metadata": {},
     "output_type": "execute_result"
    }
   ],
   "source": [
    "function dt!(balle::Balle, partie::Partie)\n",
    "    xp= balle.x+dt*v*cos(theta)\n",
    "    yp= balle.y+dt*v*sin(theta)\n",
    "    \n",
    "    deplacement = LineSegment([x,y], [xp,yp])\n",
    "    for i in Partie.obstacles\n",
    "        if intersect(deplacement, i)\n",
    "            partie.is_over=true\n",
    "        end\n",
    "    end\n",
    "    if !partie.is_over\n",
    "        balle.x=xp\n",
    "        balle.y=yp\n",
    "        balle.v+=dt*f/m\n",
    "    end\n",
    "end"
   ]
  },
  {
   "cell_type": "code",
   "execution_count": 3,
   "metadata": {
    "collapsed": true
   },
   "outputs": [],
   "source": [
    "#### CLASSE TROU"
   ]
  },
  {
   "cell_type": "code",
   "execution_count": 6,
   "metadata": {
    "collapsed": true
   },
   "outputs": [],
   "source": [
    "mutable struct Trou\n",
    "    x::Float64\n",
    "    y::Float64\n",
    "end"
   ]
  },
  {
   "cell_type": "code",
   "execution_count": null,
   "metadata": {
    "collapsed": true
   },
   "outputs": [],
   "source": [
    "##### CLASSE BALLE"
   ]
  },
  {
   "cell_type": "code",
   "execution_count": 2,
   "metadata": {
    "collapsed": true
   },
   "outputs": [],
   "source": [
    "mutable struct Balle\n",
    "    x::Float64\n",
    "    y::Float64\n",
    "    v::Float64\n",
    "    theta::Float64\n",
    "end"
   ]
  }
 ],
 "metadata": {
  "kernelspec": {
   "display_name": "Julia 1.0.5",
   "language": "julia",
   "name": "julia-1.0"
  },
  "language_info": {
   "file_extension": ".jl",
   "mimetype": "application/julia",
   "name": "julia",
   "version": "1.0.5"
  }
 },
 "nbformat": 4,
 "nbformat_minor": 4
}
