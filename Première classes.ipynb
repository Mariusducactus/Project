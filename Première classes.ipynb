{
 "cells": [
  {
   "cell_type": "code",
   "execution_count": 16,
   "metadata": {},
   "outputs": [
    {
     "ename": "ArgumentError",
     "evalue": "ArgumentError: Package Makie not found in current path:\n- Run `import Pkg; Pkg.add(\"Makie\")` to install the Makie package.\n",
     "output_type": "error",
     "traceback": [
      "ArgumentError: Package Makie not found in current path:\n- Run `import Pkg; Pkg.add(\"Makie\")` to install the Makie package.\n",
      "",
      "Stacktrace:",
      " [1] require(::Module, ::Symbol) at ./loading.jl:823",
      " [2] top-level scope at In[16]:2"
     ]
    }
   ],
   "source": [
    "using Plots\n",
    "using Makie"
   ]
  },
  {
   "cell_type": "code",
   "execution_count": 10,
   "metadata": {},
   "outputs": [
    {
     "data": {
      "text/plain": [
       "9.81"
      ]
     },
     "execution_count": 10,
     "metadata": {},
     "output_type": "execute_result"
    }
   ],
   "source": [
    "f=0.0::Float64\n",
    "rb=0.0::Float64\n",
    "rt=0.0::Float64\n",
    "dt=0.0::Float64\n",
    "m=0.0::Float64\n",
    "g=9.81 #m.s-2"
   ]
  },
  {
   "cell_type": "code",
   "execution_count": 11,
   "metadata": {},
   "outputs": [],
   "source": [
    "mutable struct Trou\n",
    "    x::Float64\n",
    "    y::Float64\n",
    "end"
   ]
  },
  {
   "cell_type": "code",
   "execution_count": 12,
   "metadata": {},
   "outputs": [],
   "source": [
    "mutable struct Balle\n",
    "    x::Float64\n",
    "    y::Float64\n",
    "    v::Float64\n",
    "    theta::Float64\n",
    "end"
   ]
  },
  {
   "cell_type": "code",
   "execution_count": 13,
   "metadata": {},
   "outputs": [
    {
     "data": {
      "text/plain": [
       "bougerBalle! (generic function with 1 method)"
      ]
     },
     "execution_count": 13,
     "metadata": {},
     "output_type": "execute_result"
    }
   ],
   "source": [
    "function impulsionBalle!(balle::Balle, new_v::Float64, new_theta::Float64)\n",
    "    balle.v=new_v\n",
    "    balle.theta=new_theta\n",
    "end\n",
    "    "
   ]
  },
  {
   "cell_type": "code",
   "execution_count": 14,
   "metadata": {},
   "outputs": [
    {
     "data": {
      "text/plain": [
       "dt! (generic function with 1 method)"
      ]
     },
     "execution_count": 14,
     "metadata": {},
     "output_type": "execute_result"
    }
   ],
   "source": [
    "function dt!(balle::Balle)\n",
    "    balle.x+=dt*v*cos(theta)\n",
    "    balle.y+=dt*v*sin(theta)\n",
    "    balle.v+=dt*f/m\n",
    "end"
   ]
  },
  {
   "cell_type": "code",
   "execution_count": null,
   "metadata": {},
   "outputs": [],
   "source": []
  }
 ],
 "metadata": {
  "kernelspec": {
   "display_name": "Julia 1.0.5",
   "language": "julia",
   "name": "julia-1.0"
  },
  "language_info": {
   "file_extension": ".jl",
   "mimetype": "application/julia",
   "name": "julia",
   "version": "1.0.5"
  }
 },
 "nbformat": 4,
 "nbformat_minor": 4
}
